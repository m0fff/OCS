{
 "cells": [
  {
   "cell_type": "markdown",
   "metadata": {},
   "source": [
    "OSIsoft Cloud Services Quantities and units (Units of Measure)\n",
    "\n",
    "Requirements:\n",
    "\n",
    "1. Juptyer notebook or lab\n",
    "2. Python\n",
    "3. ocs_sample_library https://github.com/osisoft/OSI-Samples/tree/master/ocs_samples/library_samples/Python3 \n",
    "<p>Note: this notebook uses a customized version of the Python library, some of these features are not yet in the github library.\n",
    "4. config.ini configured for your OSIsoft Cloud Services environment https://github.com/osisoft/OSI-Samples/tree/master/ocs_samples/basic_samples/SDS/Python/SDSPy/Python3\n",
    "5. Familiarity with namespaces, types and streams and for more information see https://cloud.osisoft.com\n",
    "\n",
    "Objectives:\n",
    "\n",
    "Create a type with a unit definition and a stream based on that type\n",
    "Create a stream that overrides the unit definition of the type\n",
    "Query streams with and without a property override for the defined units"
   ]
  },
  {
   "cell_type": "markdown",
   "metadata": {},
   "source": [
    "Using the OSIsoft Cloud Services Portal > API Console is one way to view quantities and units<br>\n",
    "For example - for a specific quantity and unit:<br>\n",
    "/Namespaces/dataset/Quantities/Temperature<br>\n",
    "/Namespaces/dataset/Quantities/Temperature/units/degree Fahrenheit<br>"
   ]
  },
  {
   "cell_type": "code",
   "execution_count": 1,
   "metadata": {},
   "outputs": [],
   "source": [
    "# specify a unique prefix to create objects\n",
    "example_prefix = 'SDSUom.'"
   ]
  },
  {
   "cell_type": "code",
   "execution_count": 2,
   "metadata": {},
   "outputs": [],
   "source": [
    "# setup the environment\n",
    "\n",
    "import configparser\n",
    "import logging\n",
    "# For general usage when package is installed and not using customized features\n",
    "#from ocs_sample_library_preview import *\n",
    "# For testing/running modified github version\n",
    "from OSI_Samples.ocs_samples.library_samples.Python3.ocs_sample_library_preview import *\n",
    "import json\n",
    "import datetime\n",
    "import matplotlib.pyplot as plt\n",
    "import seaborn as sns\n",
    "sns.set(color_codes=True)\n",
    "import pandas as pd\n",
    "import logging\n",
    "\n",
    "logger = logging.getLogger()\n",
    "logger.setLevel(logging.CRITICAL)\n",
    "\n",
    "# Read the configuration informatation for your OSIsoft Cloud Services acccount from config.ini\n",
    "\n",
    "config = configparser.ConfigParser()\n",
    "config.read('config.ini')\n",
    "\n",
    "ocsClient = OCSClient(config.get('Access', 'ApiVersion'), config.get('Access', 'Tenant'), config.get('Access', 'Resource'), \n",
    "                        config.get('Credentials', 'ClientId'), config.get('Credentials', 'ClientSecret'))\n",
    "        \n",
    "namespace_id = config.get('Configurations', 'Namespace')"
   ]
  },
  {
   "cell_type": "code",
   "execution_count": 3,
   "metadata": {},
   "outputs": [
    {
     "name": "stdout",
     "output_type": "stream",
     "text": [
      "{\n",
      "    \"SdsTypeCode\": 1,\n",
      "    \"Properties\": [\n",
      "        {\n",
      "            \"Id\": \"timestamp\",\n",
      "            \"Description\": null,\n",
      "            \"SdsType\": {\n",
      "                \"SdsTypeCode\": 16,\n",
      "                \"Id\": \"DateTime\",\n",
      "                \"Name\": null,\n",
      "                \"Description\": null,\n",
      "                \"ExtrapolationMode\": null,\n",
      "                \"InterpolationMode\": null\n",
      "            },\n",
      "            \"Value\": null,\n",
      "            \"Order\": null,\n",
      "            \"IsKey\": true,\n",
      "            \"InterpolationMode\": null,\n",
      "            \"Uom\": null\n",
      "        },\n",
      "        {\n",
      "            \"Id\": \"temperature\",\n",
      "            \"Description\": null,\n",
      "            \"SdsType\": {\n",
      "                \"SdsTypeCode\": 14,\n",
      "                \"Id\": null,\n",
      "                \"Name\": null,\n",
      "                \"Description\": null,\n",
      "                \"ExtrapolationMode\": null,\n",
      "                \"InterpolationMode\": null\n",
      "            },\n",
      "            \"Value\": null,\n",
      "            \"Order\": null,\n",
      "            \"IsKey\": false,\n",
      "            \"InterpolationMode\": null,\n",
      "            \"Uom\": \"degree Fahrenheit\"\n",
      "        }\n",
      "    ],\n",
      "    \"Id\": \"SDSUom.bearing_temperature\",\n",
      "    \"Name\": \"SDSUom.bearing_temperature\",\n",
      "    \"Description\": \"bearing temperature\",\n",
      "    \"ExtrapolationMode\": null,\n",
      "    \"InterpolationMode\": null\n",
      "}\n"
     ]
    }
   ],
   "source": [
    "# Create a type with a specified UoM for temperature\n",
    "\n",
    "thetype = {'sdstypecode': SdsTypeCode.Object, 'id': f'{example_prefix}bearing_temperature',\n",
    "            'name': f'{example_prefix}bearing_temperature', 'description': 'bearing temperature'}\n",
    "\n",
    "sds_type_properties = []\n",
    "\n",
    "#sds type code\n",
    "sds_type_code = SdsType()\n",
    "sds_type_code.Id = \"DateTime\"\n",
    "sds_type_code.SdsTypeCode = SdsTypeCode.DateTime\n",
    "\n",
    "# sds type property\n",
    "\n",
    "sds_data_type = SdsTypeProperty()\n",
    "sds_data_type.Id = \"timestamp\"\n",
    "sds_data_type.SdsType = sds_type_code\n",
    "sds_data_type.IsKey = True\n",
    "sds_type_properties.append(sds_data_type)\n",
    "\n",
    "# sds type code\n",
    "sds_type_code = SdsType()\n",
    "sds_type_code.Id = \"Double\"\n",
    "sds_type_code.SdsTypeCode = SdsTypeCode.Double\n",
    "\n",
    "# sds type property\n",
    "\n",
    "sds_data_type =  SdsTypeProperty()\n",
    "sds_data_type.Id = \"temperature\"\n",
    "sds_data_type.SdsType = SdsType.fromJson({\"SdsTypeCode\" : SdsTypeCode.Double.value })\n",
    "sds_data_type.Uom = \"degree Fahrenheit\"\n",
    "sds_type_properties.append(sds_data_type)\n",
    "\n",
    "# SDS type definition\n",
    "\n",
    "sdstype = SdsType()\n",
    "sdstype.Id = thetype['id']\n",
    "sdstype.SdsTypeCode = thetype['sdstypecode']\n",
    "sdstype.Name = thetype['name']\n",
    "sdstype.Description=thetype['description']\n",
    "sdstype.Properties = sds_type_properties\n",
    "\n",
    "ocsClient.acceptverbosity = False\n",
    "try:\n",
    "    new_type = ocsClient.Types.getOrCreateType(namespace_id, sdstype)\n",
    "except:\n",
    "    new_type = ocsClient.Types.getType(namespace_id,sdstype.Id)\n",
    "    print(\"Type already exists, querying existting type, verify object is defined as expected!\")\n",
    "print(json.dumps(json.loads(new_type.toJson()),indent=4))"
   ]
  },
  {
   "cell_type": "code",
   "execution_count": 4,
   "metadata": {},
   "outputs": [
    {
     "name": "stdout",
     "output_type": "stream",
     "text": [
      "id: SDSUom.Asset3_bearing3, name: bearing3 temperature1\n"
     ]
    }
   ],
   "source": [
    "# Create a stream using the created type\n",
    "stream_name = 'Asset3_bearing3'\n",
    "new_stream = SdsStream(id=f'{example_prefix}{stream_name}',name=f'bearing3 temperature1', description=f'Bearing 3 temperature sensor1', typeId=f'{example_prefix}bearing_temperature')\n",
    "stream = ocsClient.Streams.getOrCreateStream(namespace_id,new_stream)\n",
    "print(f'id: {stream.Id}, name: {stream.Name}')"
   ]
  },
  {
   "cell_type": "code",
   "execution_count": 5,
   "metadata": {},
   "outputs": [],
   "source": [
    "# Add stream events\n",
    "ocsClient.Streams.updateValues(namespace_id,stream.Id,json.dumps([{'Timestamp': '2019-02-11T00:00:00Z', 'Temperature': 100},\n",
    " {'Timestamp': '2019-02-11T00:00:01Z', 'Temperature': 35.492},\n",
    " {'Timestamp': '2019-02-11T00:00:02Z', 'Temperature': 35.469},\n",
    " {'Timestamp': '2019-02-11T00:00:03Z', 'Temperature': 35.422},\n",
    " {'Timestamp': '2019-02-11T00:00:04Z', 'Temperature': 35.414},\n",
    " {'Timestamp': '2019-02-11T00:00:05Z', 'Temperature': 35.32},\n",
    " {'Timestamp': '2019-02-11T00:00:06Z', 'Temperature': 35.227},\n",
    " {'Timestamp': '2019-02-11T00:00:07Z', 'Temperature': 35.242},\n",
    " {'Timestamp': '2019-02-11T00:00:08Z', 'Temperature': 35.16},\n",
    " {'Timestamp': '2019-02-11T00:00:09Z', 'Temperature': 35.176}]))"
   ]
  },
  {
   "cell_type": "markdown",
   "metadata": {},
   "source": [
    "From the OCS Portal API Console request conversion to celsius using a POST request with the following JSON as the body:<br>\n",
    "Note: substitute DerekETesting with your namespace id\n",
    "```\n",
    "POST /Namespaces/DerekETesting/Streams/SDSUom.Asset3_bearing3/Data/Transform/First\n",
    "\n",
    "[\n",
    "  {\n",
    "    \"SdsTypePropertyId\" : \"temperature\",\n",
    "    \"Uom\" : \"degree Celsius\" \n",
    "  }\n",
    "]\n",
    "```"
   ]
  },
  {
   "cell_type": "markdown",
   "metadata": {},
   "source": [
    "Query the stream, using a property override to request the result in celsius, instead of the type defined Farenheit<br>\n",
    "![alt text](images/sds_uom_post_celsius.png \"OCS Portal - API Console POST query\")"
   ]
  },
  {
   "cell_type": "markdown",
   "metadata": {},
   "source": [
    "From the OCS Portal API Console create a stream with an override to define the temperature property as celsius, instead of the type defined fahrenheit using the URI and POST body\n",
    "Note: substitute DerekETesting with your namespace id\n",
    "\n",
    "```\n",
    "POST /Namespaces/DerekETesting/Streams/SdsUom.Asset3_bearing4\n",
    "\n",
    "{\n",
    "\t\"TypeId\": \"SDSUom.bearing_temperature\",\n",
    "\t\"Id\": \"SdsUom.Asset3_bearing4\",\n",
    "\t\"Name\": \"bearing4 temperature1\",\n",
    "\t\"Description\": \"Bearing 4 temperature sensor1\",\n",
    "\t\"PropertyOverrides\": [\n",
    "  {\n",
    "    \"SdsTypePropertyId\" : \"temperature\",\n",
    "    \"Uom\" : \"degree Celsius\" \n",
    "  }\n",
    "]\n",
    "}\n",
    "```"
   ]
  },
  {
   "cell_type": "code",
   "execution_count": 6,
   "metadata": {},
   "outputs": [],
   "source": [
    "# Add stream events\n",
    "logger.setLevel(logging.CRITICAL)\n",
    "logging.debug(\"tap\")\n",
    "try:\n",
    "    ocsClient.Streams.updateValues(namespace_id,'SDSUom.Asset3_bearing4',json.dumps([{'Timestamp': '2019-02-11T00:00:00Z', 'Temperature': 100},\n",
    "     {'Timestamp': '2019-02-11T00:00:01Z', 'Temperature': 35.492},\n",
    "     {'Timestamp': '2019-02-11T00:00:02Z', 'Temperature': 35.469},\n",
    "     {'Timestamp': '2019-02-11T00:00:03Z', 'Temperature': 35.422},\n",
    "     {'Timestamp': '2019-02-11T00:00:04Z', 'Temperature': 35.414},\n",
    "     {'Timestamp': '2019-02-11T00:00:05Z', 'Temperature': 35.32},\n",
    "     {'Timestamp': '2019-02-11T00:00:06Z', 'Temperature': 35.227},\n",
    "     {'Timestamp': '2019-02-11T00:00:07Z', 'Temperature': 35.242},\n",
    "     {'Timestamp': '2019-02-11T00:00:08Z', 'Temperature': 35.16},\n",
    "     {'Timestamp': '2019-02-11T00:00:09Z', 'Temperature': 35.176}]))\n",
    "except Exception as e:\n",
    "    print(str(e))\n",
    "    print(\"Error may be due to missing stream, see earlier cell for how to create stream in OCS API Console\")"
   ]
  },
  {
   "cell_type": "code",
   "execution_count": 7,
   "metadata": {},
   "outputs": [
    {
     "data": {
      "text/plain": [
       "{'timestamp': '2019-02-11T00:00:00Z', 'temperature': 100.0}"
      ]
     },
     "execution_count": 7,
     "metadata": {},
     "output_type": "execute_result"
    }
   ],
   "source": [
    "# Query the first stored value\n",
    "ocsClient.Streams.getFirstValue(namespace_id,'SDSUom.Asset3_bearing4',None)"
   ]
  },
  {
   "cell_type": "markdown",
   "metadata": {},
   "source": [
    "Query the stream, using a property override to request the result in Fahrenheit, instead of the stream defined Celsius\n",
    "![alt text](files/sds_uom_post.png \"OCS Portal - API Console POST query\")"
   ]
  },
  {
   "cell_type": "markdown",
   "metadata": {},
   "source": [
    "Example from previous screenshot, request stream event in Fahrenheit using OCS Portal. URI & POST body:\n",
    "\n",
    "```\n",
    "POST /Namespaces/DerekETesting/Streams/SDSUom.Asset3_bearing4/Data/Transform/First\n",
    "[\n",
    "  {\n",
    "    \"SdsTypePropertyId\" : \"temperature\",\n",
    "    \"Uom\" : \"degree Fahrenheit\" \n",
    "  }\n",
    "]\n",
    "```"
   ]
  },
  {
   "cell_type": "code",
   "execution_count": 8,
   "metadata": {},
   "outputs": [],
   "source": [
    "# Clean-up environment\n",
    "\n",
    "def cleanup(run=False):\n",
    "        for stream in ocsClient.Streams.getStreams(namespace_id,f'{example_prefix}*'):\n",
    "            print(f'stream id: {stream.Id}, stream name: {stream.Name}')\n",
    "            if run:\n",
    "                try:\n",
    "                    ocsClient.Streams.deleteStream(namespace_id,stream.Id)\n",
    "                    ocsClient.Types.deleteType(namespace_id,stream.TypeId)\n",
    "                except:\n",
    "                    pass\n",
    "        for type in ocsClient.Types.getTypes(namespace_id,query=f'{example_prefix}*'):\n",
    "            print(f'type id: {type.Id}, type name: {type.Name}')\n",
    "            if run:\n",
    "                try:\n",
    "                    ocsClient.Types.deleteType(namespace_id,type.Id)\n",
    "                    ocsClient.Types.deleteType(namespace_id,type.TypeId)\n",
    "                except:\n",
    "                    pass\n",
    "        \n",
    "# cleanup - disabled, i.e: False\n",
    "#cleanup(False)"
   ]
  }
 ],
 "metadata": {
  "kernelspec": {
   "display_name": "Python 3",
   "language": "python",
   "name": "python3"
  },
  "language_info": {
   "codemirror_mode": {
    "name": "ipython",
    "version": 3
   },
   "file_extension": ".py",
   "mimetype": "text/x-python",
   "name": "python",
   "nbconvert_exporter": "python",
   "pygments_lexer": "ipython3",
   "version": "3.7.0"
  }
 },
 "nbformat": 4,
 "nbformat_minor": 2
}
