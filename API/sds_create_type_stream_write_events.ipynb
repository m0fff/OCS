{
 "cells": [
  {
   "cell_type": "markdown",
   "metadata": {},
   "source": [
    "OSIsoft Cloud Services REST API - create and write stream events\n",
    "\n",
    "Requirements:\n",
    "\n",
    "Juptyer notebook or lab\n",
    "Python\n",
    "ocs_sample_library https://github.com/osisoft/OSI-Samples/tree/master/ocs_samples/library_samples/Python3\n",
    "\n",
    "config.ini configured for your OSIsoft Cloud Services environment https://github.com/osisoft/OSI-Samples/tree/master/ocs_samples/basic_samples/SDS/Python/SDSPy/Python3\n",
    "\n",
    "objective:\n",
    "\n",
    "Create a type, stream and write stream events\n"
   ]
  },
  {
   "cell_type": "code",
   "execution_count": 1,
   "metadata": {},
   "outputs": [],
   "source": [
    "# specify a unique prefix to create objects\n",
    "example_prefix = 'SDSUom.'"
   ]
  },
  {
   "cell_type": "code",
   "execution_count": 2,
   "metadata": {},
   "outputs": [],
   "source": [
    "# setup the environment\n",
    "\n",
    "import configparser\n",
    "import logging\n",
    "from ocs_sample_library_preview import *\n",
    "# For testing/running modified github version\n",
    "import json\n",
    "import datetime\n",
    "\n",
    "# setup logging\n",
    "logger = logging.getLogger()\n",
    "logger.setLevel(logging.CRITICAL)\n",
    "\n",
    "# Read the configuration informatation for your OSIsoft Cloud Services acccount from config.ini\n",
    "\n",
    "config = configparser.ConfigParser()\n",
    "config.read('config.ini')\n",
    "\n",
    "ocsClient = OCSClient(config.get('Access', 'ApiVersion'), config.get('Access', 'Tenant'), config.get('Access', 'Resource'), \n",
    "                        config.get('Credentials', 'ClientId'), config.get('Credentials', 'ClientSecret'))\n",
    "        \n",
    "namespace_id = config.get('Configurations', 'Namespace')"
   ]
  },
  {
   "cell_type": "code",
   "execution_count": 3,
   "metadata": {},
   "outputs": [
    {
     "name": "stdout",
     "output_type": "stream",
     "text": [
      "{\n",
      "    \"SdsTypeCode\": 1,\n",
      "    \"Properties\": [\n",
      "        {\n",
      "            \"IsKey\": true,\n",
      "            \"Id\": \"timestamp\",\n",
      "            \"Description\": null,\n",
      "            \"SdsType\": {\n",
      "                \"SdsTypeCode\": 16,\n",
      "                \"Id\": null,\n",
      "                \"Name\": null,\n",
      "                \"Description\": null\n",
      "            },\n",
      "            \"Value\": null,\n",
      "            \"Order\": null\n",
      "        },\n",
      "        {\n",
      "            \"IsKey\": false,\n",
      "            \"Id\": \"index\",\n",
      "            \"Description\": null,\n",
      "            \"SdsType\": {\n",
      "                \"SdsTypeCode\": 15,\n",
      "                \"Id\": null,\n",
      "                \"Name\": null,\n",
      "                \"Description\": null\n",
      "            },\n",
      "            \"Value\": null,\n",
      "            \"Order\": null\n",
      "        },\n",
      "        {\n",
      "            \"IsKey\": false,\n",
      "            \"Id\": \"channel\",\n",
      "            \"Description\": null,\n",
      "            \"SdsType\": {\n",
      "                \"SdsTypeCode\": 14,\n",
      "                \"Id\": null,\n",
      "                \"Name\": null,\n",
      "                \"Description\": null\n",
      "            },\n",
      "            \"Value\": null,\n",
      "            \"Order\": null\n",
      "        }\n",
      "    ],\n",
      "    \"Id\": \"SDSUom.bearing_channel\",\n",
      "    \"Name\": \"bearing_channel\",\n",
      "    \"Description\": \"bearing vibration signals\"\n",
      "}\n"
     ]
    }
   ],
   "source": [
    "# Dictionary to describe information about the type\n",
    "\n",
    "thetype = {'sdstypecode': SdsTypeCode.Object, \n",
    "           'id': f'{example_prefix}bearing_channel',\n",
    "           'name': 'bearing_channel', \n",
    "           'description': 'bearing vibration signals'}\n",
    "\n",
    "# sds type properties\n",
    "timestamp_property = SdsTypeProperty()\n",
    "timestamp_property.Id = \"timestamp\"\n",
    "timestamp_property.SdsType = SdsType.fromDictionary({\"SdsTypeCode\": SdsTypeCode.DateTime.value})\n",
    "timestamp_property.IsKey = True\n",
    "\n",
    "index_property = SdsTypeProperty()\n",
    "index_property.Id = \"index\"\n",
    "index_property.SdsType = SdsType.fromDictionary({\"SdsTypeCode\": SdsTypeCode.Decimal.value})\n",
    "\n",
    "channel_property =  SdsTypeProperty()\n",
    "channel_property.Id = \"channel\"\n",
    "channel_property.SdsType = SdsType.fromJson({\"SdsTypeCode\" : SdsTypeCode.Double.value })\n",
    "\n",
    "# sds type defintion\n",
    "bearing = SdsType()\n",
    "bearing.Id = thetype['id']\n",
    "bearing.SdsTypeCode = thetype['sdstypecode']\n",
    "bearing.Name = thetype['name']\n",
    "bearing.Description=thetype['description']\n",
    "bearing.Properties = [timestamp_property,index_property,channel_property]\n",
    "\n",
    "# Create the type\n",
    "bearing_type = ocsClient.Types.getOrCreateType(namespace_id, bearing)\n",
    "print(json.dumps(json.loads(bearing_type.toJson()),indent=4))"
   ]
  },
  {
   "cell_type": "code",
   "execution_count": 4,
   "metadata": {},
   "outputs": [
    {
     "name": "stdout",
     "output_type": "stream",
     "text": [
      "id: SDSUom.Bearing1, name: bearing1\n",
      "id: SDSUom.Bearing2, name: bearing2\n",
      "id: SDSUom.Bearing3, name: bearing3\n",
      "id: SDSUom.Bearing4, name: bearing4\n"
     ]
    }
   ],
   "source": [
    "# Create 4 streams based on the created type\n",
    "for bearing in range (1,5):\n",
    "    stream = SdsStream(id=f'{example_prefix}Bearing{bearing}',name=f'bearing{bearing}', description=f'Bearing {bearing} Channel 1', typeId=f'{example_prefix}bearing_channel')\n",
    "    stream = ocsClient.Streams.getOrCreateStream(namespace_id,stream)\n",
    "    print(f'id: {stream.Id}, name: {stream.Name}')"
   ]
  },
  {
   "cell_type": "code",
   "execution_count": 5,
   "metadata": {},
   "outputs": [],
   "source": [
    "# create stream events\n",
    "values = [ {'timestamp': '2004-02-19T06:19:00Z', 'counter': 0, 'channel': -0.872},\n",
    "           {'timestamp': '2004-02-19T06:21:00Z', 'counter': 1, 'channel': 0.002},\n",
    "           {'timestamp': '2004-02-19T06:23:00Z', 'counter': 2, 'channel': -0.438},\n",
    "           {'timestamp': '2004-02-19T06:25:00Z', 'counter': 3, 'channel': 0.222},\n",
    "           {'timestamp': '2004-02-19T06:27:00Z', 'counter': 4, 'channel': 0.678}]\n",
    "# insert events\n",
    "for bearing in range(1,5):\n",
    "        ocsClient.Streams.insertValues(namespace_id,f'{example_prefix}Bearing{bearing}',json.dumps(values))"
   ]
  },
  {
   "cell_type": "code",
   "execution_count": 6,
   "metadata": {},
   "outputs": [
    {
     "name": "stdout",
     "output_type": "stream",
     "text": [
      "SDSUom.Bearing4: [{'timestamp': '2004-02-19T06:19:00Z', 'channel': -0.872}, {'timestamp': '2004-02-19T06:21:00Z', 'channel': 0.002}, {'timestamp': '2004-02-19T06:23:00Z', 'channel': -0.438}, {'timestamp': '2004-02-19T06:25:00Z', 'channel': 0.222}, {'timestamp': '2004-02-19T06:27:00Z', 'channel': 0.678}]\n",
      "SDSUom.Bearing2: [{'timestamp': '2004-02-19T06:19:00Z', 'channel': -0.872}, {'timestamp': '2004-02-19T06:21:00Z', 'channel': 0.002}, {'timestamp': '2004-02-19T06:23:00Z', 'channel': -0.438}, {'timestamp': '2004-02-19T06:25:00Z', 'channel': 0.222}, {'timestamp': '2004-02-19T06:27:00Z', 'channel': 0.678}]\n",
      "SDSUom.Bearing1: [{'timestamp': '2004-02-19T06:19:00Z', 'channel': -0.872}, {'timestamp': '2004-02-19T06:21:00Z', 'channel': 0.002}, {'timestamp': '2004-02-19T06:23:00Z', 'channel': -0.438}, {'timestamp': '2004-02-19T06:25:00Z', 'channel': 0.222}, {'timestamp': '2004-02-19T06:27:00Z', 'channel': 0.678}]\n",
      "SDSUom.Bearing3: [{'timestamp': '2004-02-19T06:19:00Z', 'channel': -0.872}, {'timestamp': '2004-02-19T06:21:00Z', 'channel': 0.002}, {'timestamp': '2004-02-19T06:23:00Z', 'channel': -0.438}, {'timestamp': '2004-02-19T06:25:00Z', 'channel': 0.222}, {'timestamp': '2004-02-19T06:27:00Z', 'channel': 0.678}]\n"
     ]
    }
   ],
   "source": [
    "# display the stream events\n",
    "for stream in ocsClient.Streams.getStreams(namespace_id,query=f'{example_prefix}Bearing*'):\n",
    "    value = ocsClient.Streams.getRangeValues(namespace_id,stream.Id,start=\"2001-01-01\",count=10,value_class=None,skip=0,reverse=False,boundary_type=SdsBoundaryType.Inside)\n",
    "    print(f'{stream.Id}: {value}')\n"
   ]
  }
 ],
 "metadata": {
  "kernelspec": {
   "display_name": "Python 3",
   "language": "python",
   "name": "python3"
  },
  "language_info": {
   "codemirror_mode": {
    "name": "ipython",
    "version": 3
   },
   "file_extension": ".py",
   "mimetype": "text/x-python",
   "name": "python",
   "nbconvert_exporter": "python",
   "pygments_lexer": "ipython3",
   "version": "3.7.0"
  }
 },
 "nbformat": 4,
 "nbformat_minor": 2
}
