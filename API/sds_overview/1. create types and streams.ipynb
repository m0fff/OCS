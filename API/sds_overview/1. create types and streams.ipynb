{
 "cells": [
  {
   "cell_type": "markdown",
   "metadata": {},
   "source": [
    "OSIsoft Cloud Services REST API\n",
    "\n",
    "requirements:<br>\n",
    "Juptyer notebook or lab<br>\n",
    "Python ocs_sample_library https://github.com/osisoft/OSI-Samples/tree/master/ocs_samples/library_samples/Python3<br>\n",
    "config.ini configured for your OSIsoft Cloud Services environment https://github.com/osisoft/OSI-Samples/tree/master/ocs_samples/basic_samples/SDS/Python/SDSPy/Python3<br>\n",
    "\n",
    "objective:<br>\n",
    "Create a type, stream and write stream events"
   ]
  },
  {
   "cell_type": "code",
   "execution_count": 1,
   "metadata": {},
   "outputs": [],
   "source": [
    "# specify a unique prefix to create objects, suggestion use your nickname!\n",
    "example_prefix = 'SDSPrefix.'"
   ]
  },
  {
   "cell_type": "code",
   "execution_count": 2,
   "metadata": {},
   "outputs": [
    {
     "name": "stdout",
     "output_type": "stream",
     "text": [
      "Using OSIsoft OCS sample library\n"
     ]
    }
   ],
   "source": [
    "# setup the environment, using statements defined in a python script file\n",
    "%run setup.py"
   ]
  },
  {
   "cell_type": "code",
   "execution_count": 3,
   "metadata": {},
   "outputs": [
    {
     "data": {
      "text/plain": [
       "'efe27258-f6d5-4ea6-a001-3e4a82777710'"
      ]
     },
     "execution_count": 3,
     "metadata": {},
     "output_type": "execute_result"
    }
   ],
   "source": [
    "# verify we have a connection to the tenant, the tenant name should be returned\n",
    "ocsClient.tenant"
   ]
  },
  {
   "cell_type": "markdown",
   "metadata": {},
   "source": [
    "# Create a type definition"
   ]
  },
  {
   "cell_type": "code",
   "execution_count": 4,
   "metadata": {},
   "outputs": [
    {
     "name": "stdout",
     "output_type": "stream",
     "text": [
      "{\n",
      "    \"SdsTypeCode\": 1,\n",
      "    \"Properties\": [\n",
      "        {\n",
      "            \"IsKey\": true,\n",
      "            \"Id\": \"timestamp\",\n",
      "            \"Description\": null,\n",
      "            \"SdsType\": {\n",
      "                \"SdsTypeCode\": 16,\n",
      "                \"Id\": null,\n",
      "                \"Name\": null,\n",
      "                \"Description\": null\n",
      "            },\n",
      "            \"Value\": null,\n",
      "            \"Order\": null\n",
      "        },\n",
      "        {\n",
      "            \"IsKey\": false,\n",
      "            \"Id\": \"index\",\n",
      "            \"Description\": null,\n",
      "            \"SdsType\": {\n",
      "                \"SdsTypeCode\": 15,\n",
      "                \"Id\": null,\n",
      "                \"Name\": null,\n",
      "                \"Description\": null\n",
      "            },\n",
      "            \"Value\": null,\n",
      "            \"Order\": null\n",
      "        },\n",
      "        {\n",
      "            \"IsKey\": false,\n",
      "            \"Id\": \"channel\",\n",
      "            \"Description\": null,\n",
      "            \"SdsType\": {\n",
      "                \"SdsTypeCode\": 14,\n",
      "                \"Id\": null,\n",
      "                \"Name\": null,\n",
      "                \"Description\": null\n",
      "            },\n",
      "            \"Value\": null,\n",
      "            \"Order\": null\n",
      "        }\n",
      "    ],\n",
      "    \"Id\": \"SDSPrefix.bearing_channel\",\n",
      "    \"Name\": \"bearing_channel\",\n",
      "    \"Description\": \"bearing vibration signals\"\n",
      "}\n"
     ]
    }
   ],
   "source": [
    "# Specify the defintion for the type that will consist of: timestamp, index and channel\n",
    "\n",
    "# Dictionary to describe information about the type, that will be used to define the type\n",
    "thetype = {'id': f'{example_prefix}bearing_channel', # unique identifier for the type\n",
    "           'name': 'bearing_channel', \n",
    "           'description': 'bearing vibration signals'}\n",
    "\n",
    "# property - timestamp\n",
    "timestamp_property = SdsTypeProperty()\n",
    "timestamp_property.Id = \"timestamp\"\n",
    "timestamp_property.SdsType = SdsType.fromDictionary({\"SdsTypeCode\": SdsTypeCode.DateTime.value})\n",
    "timestamp_property.IsKey = True\n",
    "\n",
    "# property - index\n",
    "index_property = SdsTypeProperty()\n",
    "index_property.Id = \"index\"\n",
    "index_property.SdsType = SdsType.fromDictionary({\"SdsTypeCode\": SdsTypeCode.Decimal.value})\n",
    "\n",
    "# property - channel\n",
    "channel_property =  SdsTypeProperty()\n",
    "channel_property.Id = \"channel\"\n",
    "channel_property.SdsType = SdsType.fromJson({\"SdsTypeCode\" : SdsTypeCode.Double.value })\n",
    "\n",
    "# type defintion\n",
    "bearing = SdsType()\n",
    "bearing.SdsTypeCode = SdsTypeCode.Object\n",
    "bearing.Id = thetype['id']\n",
    "bearing.Name = thetype['name']\n",
    "bearing.Description=thetype['description']\n",
    "bearing.Properties = [timestamp_property,index_property,channel_property]\n",
    "\n",
    "# Create the type\n",
    "bearing_type = ocsClient.Types.getOrCreateType(namespace_id, bearing)\n",
    "print(json.dumps(json.loads(bearing_type.toJson()),indent=4))"
   ]
  },
  {
   "cell_type": "code",
   "execution_count": 5,
   "metadata": {},
   "outputs": [
    {
     "name": "stdout",
     "output_type": "stream",
     "text": [
      "id: SDSPrefix.Bearing1, name: bearing1\n",
      "id: SDSPrefix.Bearing2, name: bearing2\n",
      "id: SDSPrefix.Bearing3, name: bearing3\n",
      "id: SDSPrefix.Bearing4, name: bearing4\n"
     ]
    }
   ],
   "source": [
    "# Create 4 streams based on the created type\n",
    "for bearing in range (1,5):\n",
    "    stream = SdsStream(id=f'{example_prefix}Bearing{bearing}',name=f'bearing{bearing}', description=f'Bearing {bearing} Channel', typeId=f'{example_prefix}bearing_channel')\n",
    "    stream = ocsClient.Streams.getOrCreateStream(namespace_id,stream)\n",
    "    print(f'id: {stream.Id}, name: {stream.Name}')"
   ]
  },
  {
   "cell_type": "code",
   "execution_count": 6,
   "metadata": {},
   "outputs": [],
   "source": [
    "# create stream events\n",
    "values = [ {'timestamp': '2004-02-19T06:19:00Z', 'counter': 0, 'channel': -0.872},\n",
    "           {'timestamp': '2004-02-19T06:21:00Z', 'counter': 1, 'channel': 0.002},\n",
    "           {'timestamp': '2004-02-19T06:23:00Z', 'counter': 2, 'channel': -0.438},\n",
    "           {'timestamp': '2004-02-19T06:25:00Z', 'counter': 3, 'channel': 0.222},\n",
    "           {'timestamp': '2004-02-19T06:27:00Z', 'counter': 4, 'channel': 0.678}]\n",
    "# insert events\n",
    "for bearing in range(1,5):\n",
    "        ocsClient.Streams.insertValues(namespace_id,f'{example_prefix}Bearing{bearing}',json.dumps(values))"
   ]
  },
  {
   "cell_type": "code",
   "execution_count": 7,
   "metadata": {},
   "outputs": [
    {
     "name": "stdout",
     "output_type": "stream",
     "text": [
      "SDSPrefix.Bearing3:\n",
      "[{'channel': -0.872, 'timestamp': '2004-02-19T06:19:00Z'},\n",
      " {'channel': 0.002, 'timestamp': '2004-02-19T06:21:00Z'},\n",
      " {'channel': -0.438, 'timestamp': '2004-02-19T06:23:00Z'},\n",
      " {'channel': 0.222, 'timestamp': '2004-02-19T06:25:00Z'},\n",
      " {'channel': 0.678, 'timestamp': '2004-02-19T06:27:00Z'}]\n",
      "SDSPrefix.Bearing2:\n",
      "[{'channel': -0.872, 'timestamp': '2004-02-19T06:19:00Z'},\n",
      " {'channel': 0.002, 'timestamp': '2004-02-19T06:21:00Z'},\n",
      " {'channel': -0.438, 'timestamp': '2004-02-19T06:23:00Z'},\n",
      " {'channel': 0.222, 'timestamp': '2004-02-19T06:25:00Z'},\n",
      " {'channel': 0.678, 'timestamp': '2004-02-19T06:27:00Z'}]\n",
      "SDSPrefix.Bearing1:\n",
      "[{'channel': -0.872, 'timestamp': '2004-02-19T06:19:00Z'},\n",
      " {'channel': 0.002, 'timestamp': '2004-02-19T06:21:00Z'},\n",
      " {'channel': -0.438, 'timestamp': '2004-02-19T06:23:00Z'},\n",
      " {'channel': 0.222, 'timestamp': '2004-02-19T06:25:00Z'},\n",
      " {'channel': 0.678, 'timestamp': '2004-02-19T06:27:00Z'}]\n",
      "SDSPrefix.Bearing4:\n",
      "[{'channel': -0.872, 'timestamp': '2004-02-19T06:19:00Z'},\n",
      " {'channel': 0.002, 'timestamp': '2004-02-19T06:21:00Z'},\n",
      " {'channel': -0.438, 'timestamp': '2004-02-19T06:23:00Z'},\n",
      " {'channel': 0.222, 'timestamp': '2004-02-19T06:25:00Z'},\n",
      " {'channel': 0.678, 'timestamp': '2004-02-19T06:27:00Z'}]\n"
     ]
    }
   ],
   "source": [
    "# display the stream events\n",
    "for stream in ocsClient.Streams.getStreams(namespace_id,query=f'{example_prefix}Bearing*'):\n",
    "    value = ocsClient.Streams.getRangeValues(namespace_id,stream.Id,start=\"2001-01-01\",count=10,value_class=None,skip=0,reverse=False,boundary_type=SdsBoundaryType.Inside)\n",
    "    print(f'{stream.Id}:')\n",
    "    pprint.pprint(value)"
   ]
  },
  {
   "cell_type": "code",
   "execution_count": 8,
   "metadata": {},
   "outputs": [
    {
     "name": "stdout",
     "output_type": "stream",
     "text": [
      "stream id: SDSPrefix.Bearing3, stream name: bearing3\n",
      "stream id: SDSPrefix.Bearing2, stream name: bearing2\n",
      "stream id: SDSPrefix.Bearing1, stream name: bearing1\n",
      "stream id: SDSPrefix.Bearing4, stream name: bearing4\n",
      "type id: SDSPrefix.bearing_channel, type name: bearing_channel\n"
     ]
    }
   ],
   "source": [
    "# Clean-up environment - delete type and streams with {example_prefix} prefix defined earlier\n",
    "# Note: don't do this if you plan to run subsequent notebooks in this \"group\"\n",
    "\n",
    "def cleanup(run=False):\n",
    "        for stream in ocsClient.Streams.getStreams(namespace_id,f'{example_prefix}*'):\n",
    "            print(f'stream id: {stream.Id}, stream name: {stream.Name}')\n",
    "            if run:\n",
    "                try:\n",
    "                    ocsClient.Streams.deleteStream(namespace_id,stream.Id)\n",
    "                except:\n",
    "                    pass\n",
    "        for type in ocsClient.Types.getTypes(namespace_id,query=f'{example_prefix}*'):\n",
    "            print(f'type id: {type.Id}, type name: {type.Name}')\n",
    "            if run:\n",
    "                try:\n",
    "                    ocsClient.Types.deleteType(namespace_id,type.Id)\n",
    "                    ocsClient.Types.deleteType(namespace_id,type.TypeId)\n",
    "                except:\n",
    "                    pass\n",
    "        \n",
    "# cleanup - disabled, i.e: False and commented:\n",
    "#cleanup(False)"
   ]
  }
 ],
 "metadata": {
  "kernelspec": {
   "display_name": "Python 3",
   "language": "python",
   "name": "python3"
  },
  "language_info": {
   "codemirror_mode": {
    "name": "ipython",
    "version": 3
   },
   "file_extension": ".py",
   "mimetype": "text/x-python",
   "name": "python",
   "nbconvert_exporter": "python",
   "pygments_lexer": "ipython3",
   "version": "3.7.3"
  }
 },
 "nbformat": 4,
 "nbformat_minor": 4
}
