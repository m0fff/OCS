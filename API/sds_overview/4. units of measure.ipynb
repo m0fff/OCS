{
 "cells": [
  {
   "cell_type": "markdown",
   "metadata": {},
   "source": [
    "OSIsoft Cloud Services REST API\n",
    "\n",
    "requirements:<br>\n",
    "Juptyer notebook or lab<br>\n",
    "Python ocs_sample_library https://github.com/osisoft/OSI-Samples/tree/master/ocs_samples/library_samples/Python3<br>\n",
    "config.ini configured for your OSIsoft Cloud Services environment https://github.com/osisoft/OSI-Samples/tree/master/ocs_samples/basic_samples/SDS/Python/SDSPy/Python3<br>\n",
    "\n",
    "objective:<br>\n",
    "Create metadata and tags for streams"
   ]
  },
  {
   "cell_type": "code",
   "execution_count": 2,
   "metadata": {},
   "outputs": [
    {
     "name": "stdout",
     "output_type": "stream",
     "text": [
      "Warning: using custom OCS library!\n"
     ]
    }
   ],
   "source": [
    "# specify a unique prefix to create objects, suggestion use your nickname\n",
    "example_prefix = 'SDSUoMPrefix.'\n",
    "\n",
    "# run a fork-ed/edited version of the OSIsoft Python library to support Uoms\n",
    "custom_ocs_library = True\n",
    "   \n",
    "# setup the environment, using statements defined in a python script file   \n",
    "%run -i setup"
   ]
  },
  {
   "cell_type": "code",
   "execution_count": 3,
   "metadata": {},
   "outputs": [
    {
     "data": {
      "text/plain": [
       "'efe27258-f6d5-4ea6-a001-3e4a82777710'"
      ]
     },
     "execution_count": 3,
     "metadata": {},
     "output_type": "execute_result"
    }
   ],
   "source": [
    "# verify we have a connection to the tenant, the tenant name should be returned\n",
    "ocsClient.tenant"
   ]
  },
  {
   "cell_type": "code",
   "execution_count": 6,
   "metadata": {},
   "outputs": [
    {
     "name": "stdout",
     "output_type": "stream",
     "text": [
      "{\n",
      "    \"SdsTypeCode\": 1,\n",
      "    \"Properties\": [\n",
      "        {\n",
      "            \"Id\": \"timestamp\",\n",
      "            \"Name\": null,\n",
      "            \"Description\": null,\n",
      "            \"SdsType\": {\n",
      "                \"SdsTypeCode\": 16,\n",
      "                \"Id\": null,\n",
      "                \"Name\": null,\n",
      "                \"Description\": null,\n",
      "                \"ExtrapolationMode\": 0,\n",
      "                \"InterpolationMode\": 0\n",
      "            },\n",
      "            \"Value\": null,\n",
      "            \"Order\": 0,\n",
      "            \"IsKey\": true,\n",
      "            \"InterpolationMode\": null,\n",
      "            \"Uom\": null\n",
      "        },\n",
      "        {\n",
      "            \"Id\": \"temperature\",\n",
      "            \"Name\": null,\n",
      "            \"Description\": null,\n",
      "            \"SdsType\": {\n",
      "                \"SdsTypeCode\": 14,\n",
      "                \"Id\": null,\n",
      "                \"Name\": null,\n",
      "                \"Description\": null,\n",
      "                \"ExtrapolationMode\": 0,\n",
      "                \"InterpolationMode\": 0\n",
      "            },\n",
      "            \"Value\": null,\n",
      "            \"Order\": 0,\n",
      "            \"IsKey\": false,\n",
      "            \"InterpolationMode\": null,\n",
      "            \"Uom\": \"degree Fahrenheit\"\n",
      "        }\n",
      "    ],\n",
      "    \"Id\": \"SDSUoMPrefix.bearing_temperature\",\n",
      "    \"Name\": \"bearing_channel\",\n",
      "    \"Description\": \"bearing vibration signals\",\n",
      "    \"ExtrapolationMode\": 0,\n",
      "    \"InterpolationMode\": 0\n",
      "}\n"
     ]
    }
   ],
   "source": [
    "# Specify the defintion for the type that will consist of: timestamp, index and channel\n",
    "\n",
    "# Dictionary to describe information about the type, that will be used to define the type\n",
    "thetype = {'id': f'{example_prefix}bearing_temperature', # unique identifier for the type\n",
    "           'name': 'bearing_channel', \n",
    "           'description': 'bearing vibration signals'}\n",
    "\n",
    "# property - timestamp\n",
    "timestamp_property = SdsTypeProperty()\n",
    "timestamp_property.Id = \"timestamp\"\n",
    "timestamp_property.SdsType = SdsType.fromDictionary({\"SdsTypeCode\": SdsTypeCode.DateTime.value})\n",
    "timestamp_property.IsKey = True\n",
    "\n",
    "# property - temperature\n",
    "temperature_property =  SdsTypeProperty()\n",
    "temperature_property.Id = \"temperature\"\n",
    "temperature_property.Uom = \"degree Fahrenheit\"\n",
    "temperature_property.SdsType = SdsType.fromJson({\"SdsTypeCode\" : SdsTypeCode.Double.value })\n",
    "\n",
    "# type defintion\n",
    "bearing = SdsType()\n",
    "bearing.SdsTypeCode = SdsTypeCode.Object\n",
    "bearing.Id = thetype['id']\n",
    "bearing.Name = thetype['name']\n",
    "bearing.Description=thetype['description']\n",
    "bearing.Properties = [timestamp_property,temperature_property]\n",
    "\n",
    "# verbose! - not yet supported fully by OSIsoft library\n",
    "ocsClient.acceptverbosity = True\n",
    "# Create the type\n",
    "bearing_type = ocsClient.Types.getOrCreateType(namespace_id, bearing)\n",
    "print(json.dumps(json.loads(bearing_type.toJson()),indent=4))"
   ]
  },
  {
   "cell_type": "code",
   "execution_count": 7,
   "metadata": {},
   "outputs": [
    {
     "name": "stdout",
     "output_type": "stream",
     "text": [
      "id: SDSUoMPrefix.Asset3_bearing3, name: Asset3_bearing3 temperature1\n"
     ]
    }
   ],
   "source": [
    "# Create a stream using the created type\n",
    "stream_name = 'Asset3_bearing3'\n",
    "new_stream = SdsStream(id=f'{example_prefix}{stream_name}',name=f'{stream_name} temperature1', description=f'{stream_name} temperature sensor1', typeId=f'{example_prefix}bearing_temperature')\n",
    "stream = ocsClient.Streams.getOrCreateStream(namespace_id,new_stream)\n",
    "print(f'id: {stream.Id}, name: {stream.Name}')"
   ]
  },
  {
   "cell_type": "code",
   "execution_count": 8,
   "metadata": {},
   "outputs": [],
   "source": [
    "# Add stream events\n",
    "ocsClient.Streams.updateValues(namespace_id,stream.Id,json.dumps(\n",
    "[{'Timestamp': '2019-02-11T00:00:00Z', 'Temperature': 100},\n",
    " {'Timestamp': '2019-02-11T00:00:01Z', 'Temperature': 35.492},\n",
    " {'Timestamp': '2019-02-11T00:00:02Z', 'Temperature': 35.469},\n",
    " {'Timestamp': '2019-02-11T00:00:03Z', 'Temperature': 35.422},\n",
    " {'Timestamp': '2019-02-11T00:00:04Z', 'Temperature': 35.414},\n",
    " {'Timestamp': '2019-02-11T00:00:05Z', 'Temperature': 35.32},\n",
    " {'Timestamp': '2019-02-11T00:00:06Z', 'Temperature': 35.227},\n",
    " {'Timestamp': '2019-02-11T00:00:07Z', 'Temperature': 35.242},\n",
    " {'Timestamp': '2019-02-11T00:00:08Z', 'Temperature': 35.16},\n",
    " {'Timestamp': '2019-02-11T00:00:09Z', 'Temperature': 35.176}]))"
   ]
  },
  {
   "cell_type": "markdown",
   "metadata": {},
   "source": [
    "# Request data converted to celsius"
   ]
  },
  {
   "cell_type": "markdown",
   "metadata": {},
   "source": [
    "From the OCS Portal API Console request conversion to celsius using a POST request with the following JSON as the body:<br>\n",
    "Note: substitute DerekETesting with your namespace id and if necessary update stream prefix\n",
    "\n",
    "```\n",
    "POST /Namespaces/DerekETesting/Streams/SDSUoMPrefix.Asset3_bearing3/Data/Transform/First\n",
    "\n",
    "[\n",
    "  {\n",
    "    \"SdsTypePropertyId\" : \"temperature\",\n",
    "    \"Uom\" : \"degree Celsius\" \n",
    "  }\n",
    "]\n",
    "```"
   ]
  },
  {
   "cell_type": "markdown",
   "metadata": {},
   "source": [
    "# Create a stream using an override to specify celsius"
   ]
  },
  {
   "cell_type": "markdown",
   "metadata": {},
   "source": [
    "From the OCS Portal API Console create a stream with an override to define the temperature property as celsius, instead of the type defined fahrenheit using the URI and POST body Note: substitute DerekETesting with your namespace id and if necesary update stream prefix\n",
    "```\n",
    "POST /Namespaces/DerekETesting/Streams/SDSUoMPrefix.Asset3_bearing4\n",
    "\n",
    "{\n",
    "    \"TypeId\": \"SDSUoMPrefix.bearing_temperature\",\n",
    "    \"Id\": \"SDSUoMPrefix.Asset3_bearing4\",\n",
    "    \"Name\": \"bearing4 temperature1\",\n",
    "    \"Description\": \"Bearing 4 temperature sensor1\",\n",
    "    \"PropertyOverrides\": [\n",
    "  {\n",
    "    \"SdsTypePropertyId\" : \"temperature\",\n",
    "    \"Uom\" : \"degree Celsius\" \n",
    "  }\n",
    "]\n",
    "}\n",
    "```"
   ]
  },
  {
   "cell_type": "code",
   "execution_count": 17,
   "metadata": {},
   "outputs": [
    {
     "data": {
      "text/plain": [
       "{'timestamp': '2019-02-11T00:00:00Z', 'temperature': 37.9}"
      ]
     },
     "execution_count": 17,
     "metadata": {},
     "output_type": "execute_result"
    }
   ],
   "source": [
    "# write a value to the new stream\n",
    "ocsClient.Streams.updateValues(namespace_id,f'{example_prefix}Asset3_bearing4',json.dumps([{'Timestamp': '2019-02-11T00:00:00Z', 'Temperature': 37.9}]))\n",
    "# read the value\n",
    "ocsClient.Streams.getFirstValue(namespace_id,f'{example_prefix}Asset3_bearing4',None)"
   ]
  },
  {
   "cell_type": "code",
   "execution_count": 18,
   "metadata": {},
   "outputs": [
    {
     "name": "stdout",
     "output_type": "stream",
     "text": [
      "stream id: SDSUoMPrefix.Asset3_bearing3, stream name: Asset3_bearing3 temperature1\n",
      "stream id: SDSUoMPrefix.Asset3_bearing4, stream name: bearing4 temperature1\n",
      "type id: SDSUoMPrefix.bearing_temperature, type name: bearing_channel\n"
     ]
    }
   ],
   "source": [
    "# Clean-up environment - delete type and streams with {example_prefix} prefix defined earlier\n",
    "# Note: don't do this if you plan to run subsequent notebooks in this \"group\"\n",
    "\n",
    "def cleanup(run=False):\n",
    "        for stream in ocsClient.Streams.getStreams(namespace_id,f'{example_prefix}*'):\n",
    "            print(f'stream id: {stream.Id}, stream name: {stream.Name}')\n",
    "            if run:\n",
    "                try:\n",
    "                    ocsClient.Streams.deleteStream(namespace_id,stream.Id)\n",
    "                except:\n",
    "                    pass\n",
    "        for type in ocsClient.Types.getTypes(namespace_id,query=f'{example_prefix}*'):\n",
    "            print(f'type id: {type.Id}, type name: {type.Name}')\n",
    "            if run:\n",
    "                try:\n",
    "                    ocsClient.Types.deleteType(namespace_id,type.Id)\n",
    "                    ocsClient.Types.deleteType(namespace_id,type.TypeId)\n",
    "                except:\n",
    "                    pass\n",
    "        \n",
    "# cleanup - disabled, i.e: False and commented:\n",
    "#cleanup(False)"
   ]
  }
 ],
 "metadata": {
  "kernelspec": {
   "display_name": "Python 3",
   "language": "python",
   "name": "python3"
  },
  "language_info": {
   "codemirror_mode": {
    "name": "ipython",
    "version": 3
   },
   "file_extension": ".py",
   "mimetype": "text/x-python",
   "name": "python",
   "nbconvert_exporter": "python",
   "pygments_lexer": "ipython3",
   "version": "3.7.3"
  }
 },
 "nbformat": 4,
 "nbformat_minor": 4
}
