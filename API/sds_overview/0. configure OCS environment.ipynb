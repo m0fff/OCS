{
 "cells": [
  {
   "cell_type": "markdown",
   "metadata": {},
   "source": [
    "# Setup the environment to run the following notebooks"
   ]
  },
  {
   "cell_type": "code",
   "execution_count": null,
   "metadata": {},
   "outputs": [],
   "source": [
    "# Specify the OCS Namespace, Tenant and credentials, and possible the ApiVersion and save to config.ini, either:\n",
    "# a) Update the parameters below, uncomment the last line (print line that updates the file) and run this cell\n",
    "# b) edit and save the config.ini file directly\n",
    "config = \"\"\"\n",
    "[Configurations]\n",
    "; specify the tenant namespace\n",
    "Namespace = <name-of-namespace>\n",
    "\n",
    "[Access]\n",
    "Resource = https://staging.osipi.com\n",
    "; specify the tenant id\n",
    "Tenant = <tenant-id>\n",
    "ApiVersion = v1\n",
    "\n",
    "; enter credentials that have read/write access to the namespace\n",
    "[Credentials]\n",
    "ClientId = <client-id>\n",
    "ClientSecret = <client-secret>\n",
    "\"\"\"\n",
    "# The following command writes the configuration for use by other notebooks\n",
    "#print(config,  file=open('config.ini', 'w'))"
   ]
  },
  {
   "cell_type": "code",
   "execution_count": null,
   "metadata": {},
   "outputs": [],
   "source": [
    "# install required packages\n",
    "!pip install -r requirements.txt"
   ]
  },
  {
   "cell_type": "code",
   "execution_count": null,
   "metadata": {},
   "outputs": [],
   "source": [
    "# load custom library used for a selection of the included notebooks\n",
    "!python3 -m pip install --index-url https://test.pypi.org/simple/ --no-deps custom_ocs_sample_library_preview"
   ]
  }
 ],
 "metadata": {
  "kernelspec": {
   "display_name": "Python 3",
   "language": "python",
   "name": "python3"
  },
  "language_info": {
   "codemirror_mode": {
    "name": "ipython",
    "version": 3
   },
   "file_extension": ".py",
   "mimetype": "text/x-python",
   "name": "python",
   "nbconvert_exporter": "python",
   "pygments_lexer": "ipython3",
   "version": "3.7.3"
  }
 },
 "nbformat": 4,
 "nbformat_minor": 4
}
