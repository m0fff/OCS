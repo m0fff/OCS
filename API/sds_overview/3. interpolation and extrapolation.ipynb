{
 "cells": [
  {
   "cell_type": "markdown",
   "metadata": {},
   "source": [
    "OSIsoft Cloud Services interpolation and extrapolation example with stream views"
   ]
  },
  {
   "cell_type": "markdown",
   "metadata": {},
   "source": [
    "Requirements:\n",
    "1. Juptyer notebook or lab\n",
    "2. Python\n",
    "3. custom_ocs_sample_library\n",
    "   Note: this notebook uses a customized version of the Python library, some of these features are not yet in the github library:\n",
    "   https://github.com/osisoft/OSI-Samples/tree/master/ocs_samples/library_samples/Python3\n",
    "4. config.ini configured for your OSIsoft Cloud Services environment\n",
    "   https://github.com/osisoft/OSI-Samples/tree/master/ocs_samples/basic_samples/SDS/Python/SDSPy/Python3\n",
    "5. Familiarity with namespaces, types and streams,  see https://cloud.osisoft.com\n",
    "\n",
    "Objectives:\n",
    "1. Create types and streams to explore interpolation and extrapolation features."
   ]
  },
  {
   "cell_type": "code",
   "execution_count": 1,
   "metadata": {},
   "outputs": [
    {
     "name": "stdout",
     "output_type": "stream",
     "text": [
      "Warning: using custom OCS library!\n"
     ]
    }
   ],
   "source": [
    "# specify a unique prefix to create objects, suggestion use your nickname\n",
    "example_prefix = 'SDSpolation1.'\n",
    "\n",
    "# run a fork-ed/edited version of the OSIsoft Python library to support *polation\n",
    "custom_ocs_library = True\n",
    "   \n",
    "# setup the environment, using statements defined in a python script file   \n",
    "%run -i setup"
   ]
  },
  {
   "cell_type": "markdown",
   "metadata": {},
   "source": [
    "Create a type"
   ]
  },
  {
   "cell_type": "code",
   "execution_count": 2,
   "metadata": {},
   "outputs": [],
   "source": [
    "# If you want to see the web request uncomment the following two lines\n",
    "#logger.setLevel(logging.DEBUG)\n",
    "#logging.debug(\"tap\")"
   ]
  },
  {
   "cell_type": "code",
   "execution_count": 3,
   "metadata": {},
   "outputs": [
    {
     "name": "stdout",
     "output_type": "stream",
     "text": [
      "{\n",
      "    \"SdsTypeCode\": 1,\n",
      "    \"Properties\": [\n",
      "        {\n",
      "            \"Id\": \"timestamp\",\n",
      "            \"Description\": null,\n",
      "            \"SdsType\": {\n",
      "                \"SdsTypeCode\": 16,\n",
      "                \"Id\": null,\n",
      "                \"Name\": null,\n",
      "                \"Description\": null,\n",
      "                \"ExtrapolationMode\": null,\n",
      "                \"InterpolationMode\": null\n",
      "            },\n",
      "            \"Value\": null,\n",
      "            \"Order\": null,\n",
      "            \"IsKey\": true,\n",
      "            \"InterpolationMode\": null,\n",
      "            \"Uom\": null\n",
      "        },\n",
      "        {\n",
      "            \"Id\": \"counter\",\n",
      "            \"Description\": null,\n",
      "            \"SdsType\": {\n",
      "                \"SdsTypeCode\": 15,\n",
      "                \"Id\": null,\n",
      "                \"Name\": null,\n",
      "                \"Description\": null,\n",
      "                \"ExtrapolationMode\": null,\n",
      "                \"InterpolationMode\": null\n",
      "            },\n",
      "            \"Value\": null,\n",
      "            \"Order\": null,\n",
      "            \"IsKey\": false,\n",
      "            \"InterpolationMode\": null,\n",
      "            \"Uom\": null\n",
      "        },\n",
      "        {\n",
      "            \"Id\": \"channel\",\n",
      "            \"Description\": null,\n",
      "            \"SdsType\": {\n",
      "                \"SdsTypeCode\": 14,\n",
      "                \"Id\": null,\n",
      "                \"Name\": null,\n",
      "                \"Description\": null,\n",
      "                \"ExtrapolationMode\": null,\n",
      "                \"InterpolationMode\": null\n",
      "            },\n",
      "            \"Value\": null,\n",
      "            \"Order\": null,\n",
      "            \"IsKey\": false,\n",
      "            \"InterpolationMode\": null,\n",
      "            \"Uom\": null\n",
      "        }\n",
      "    ],\n",
      "    \"Id\": \"SDSpolation1.object1\",\n",
      "    \"Name\": \"bearing_channel\",\n",
      "    \"Description\": \"no interpolation or extrapolation\",\n",
      "    \"ExtrapolationMode\": null,\n",
      "    \"InterpolationMode\": null\n",
      "}\n"
     ]
    }
   ],
   "source": [
    "\n",
    "# Dictionary to describe information about the type to  be created\n",
    "thetype = {'sdstypecode': SdsTypeCode.Object, # type of SDS object\n",
    "           'id': f'{example_prefix}object1', # unique identifier for the stream\n",
    "           'name': 'bearing_channel', # descritive name\n",
    "           'description': 'no interpolation or extrapolation'}\n",
    "\n",
    "# data type\n",
    "double_type = SdsType()\n",
    "double_type.Id = \"Double\"\n",
    "double_type.SdsTypeCode = SdsTypeCode.Double\n",
    "\n",
    "# sds type property\n",
    "timestamp_property = SdsTypeProperty()\n",
    "timestamp_property.Id = \"timestamp\"\n",
    "timestamp_property.SdsType = SdsType.fromDictionary({\"SdsTypeCode\": SdsTypeCode.DateTime.value})\n",
    "timestamp_property.IsKey = True\n",
    "\n",
    "# sds type property\n",
    "counter_property = SdsTypeProperty()\n",
    "counter_property.Id = \"counter\"\n",
    "counter_property.SdsType = SdsType.fromDictionary({\"SdsTypeCode\": SdsTypeCode.Decimal.value})\n",
    "\n",
    "# sds type property\n",
    "channel_property =  SdsTypeProperty()\n",
    "channel_property.Id = \"channel\"\n",
    "channel_property.SdsType = SdsType.fromJson({\"SdsTypeCode\" : SdsTypeCode.Double.value })\n",
    "\n",
    "# sds type defintion\n",
    "bearing = SdsType()\n",
    "bearing.Id = thetype['id']\n",
    "bearing.SdsTypeCode = thetype['sdstypecode']\n",
    "bearing.Name = thetype['name']\n",
    "bearing.Description=thetype['description']\n",
    "bearing.Properties = [timestamp_property,counter_property,channel_property]\n",
    "\n",
    "# Create the type\n",
    "try:\n",
    "    bearing_type = ocsClient.Types.getOrCreateType(namespace_id, bearing)\n",
    "except:\n",
    "    bearing_type = ocsClient.Types.getType(namespace_id,bearing.Id)\n",
    "ocsClient.acceptverbosity = True  # return values that are default values. By default these are not returned\n",
    "print(json.dumps(json.loads(bearing_type.toJson()), indent=4))"
   ]
  },
  {
   "cell_type": "markdown",
   "metadata": {},
   "source": [
    "Create a second type, specifying the interpolation mode for the counter property"
   ]
  },
  {
   "cell_type": "code",
   "execution_count": 4,
   "metadata": {},
   "outputs": [
    {
     "name": "stdout",
     "output_type": "stream",
     "text": [
      "{\n",
      "    \"SdsTypeCode\": 1,\n",
      "    \"Properties\": [\n",
      "        {\n",
      "            \"Id\": \"timestamp\",\n",
      "            \"Name\": null,\n",
      "            \"Description\": null,\n",
      "            \"SdsType\": {\n",
      "                \"SdsTypeCode\": 16,\n",
      "                \"Id\": null,\n",
      "                \"Name\": null,\n",
      "                \"Description\": null,\n",
      "                \"ExtrapolationMode\": 0,\n",
      "                \"InterpolationMode\": 0\n",
      "            },\n",
      "            \"Value\": null,\n",
      "            \"Order\": 0,\n",
      "            \"IsKey\": true,\n",
      "            \"InterpolationMode\": null,\n",
      "            \"Uom\": null\n",
      "        },\n",
      "        {\n",
      "            \"Id\": \"counter\",\n",
      "            \"Name\": null,\n",
      "            \"Description\": null,\n",
      "            \"SdsType\": {\n",
      "                \"SdsTypeCode\": 15,\n",
      "                \"Id\": null,\n",
      "                \"Name\": null,\n",
      "                \"Description\": null,\n",
      "                \"ExtrapolationMode\": 0,\n",
      "                \"InterpolationMode\": 0\n",
      "            },\n",
      "            \"Value\": null,\n",
      "            \"Order\": 0,\n",
      "            \"IsKey\": false,\n",
      "            \"InterpolationMode\": 1,\n",
      "            \"Uom\": null\n",
      "        },\n",
      "        {\n",
      "            \"Id\": \"channel\",\n",
      "            \"Name\": null,\n",
      "            \"Description\": null,\n",
      "            \"SdsType\": {\n",
      "                \"SdsTypeCode\": 14,\n",
      "                \"Id\": null,\n",
      "                \"Name\": null,\n",
      "                \"Description\": null,\n",
      "                \"ExtrapolationMode\": 0,\n",
      "                \"InterpolationMode\": 0\n",
      "            },\n",
      "            \"Value\": null,\n",
      "            \"Order\": 0,\n",
      "            \"IsKey\": false,\n",
      "            \"InterpolationMode\": null,\n",
      "            \"Uom\": null\n",
      "        }\n",
      "    ],\n",
      "    \"Id\": \"SDSpolation1.object2\",\n",
      "    \"Name\": \"bearing_channel\",\n",
      "    \"Description\": \"no interpolation or extrapolation\",\n",
      "    \"ExtrapolationMode\": 0,\n",
      "    \"InterpolationMode\": 0\n",
      "}\n"
     ]
    }
   ],
   "source": [
    "# for this step we just update/add to the previous type defintion to create the new type\n",
    "\n",
    "thetype['id'] = f'{example_prefix}object2' # unique identifier for the stream\n",
    "thetype['description'] = 'interpolation example'\n",
    "\n",
    "counter_property.InterpolationMode = SdsStreamMode.StepwiseContinuousLeading.value\n",
    "bearing.Id = thetype['id']\n",
    "\n",
    "try:\n",
    "    bearing_type = ocsClient.Types.getOrCreateType(namespace_id, bearing)\n",
    "except:\n",
    "    bearing_type = ocsClient.Types.getType(namespace_id,bearing.Id)\n",
    "ocsClient.acceptverbosity = True\n",
    "print(json.dumps(json.loads(bearing_type.toJson()), indent=4))"
   ]
  },
  {
   "cell_type": "markdown",
   "metadata": {},
   "source": [
    "Create a third type, specifying the extrapolation mode for the type"
   ]
  },
  {
   "cell_type": "code",
   "execution_count": 5,
   "metadata": {},
   "outputs": [
    {
     "name": "stdout",
     "output_type": "stream",
     "text": [
      "{\n",
      "    \"SdsTypeCode\": 1,\n",
      "    \"Properties\": [\n",
      "        {\n",
      "            \"Id\": \"timestamp\",\n",
      "            \"Name\": null,\n",
      "            \"Description\": null,\n",
      "            \"SdsType\": {\n",
      "                \"SdsTypeCode\": 16,\n",
      "                \"Id\": null,\n",
      "                \"Name\": null,\n",
      "                \"Description\": null,\n",
      "                \"ExtrapolationMode\": 0,\n",
      "                \"InterpolationMode\": 0\n",
      "            },\n",
      "            \"Value\": null,\n",
      "            \"Order\": 0,\n",
      "            \"IsKey\": true,\n",
      "            \"InterpolationMode\": null,\n",
      "            \"Uom\": null\n",
      "        },\n",
      "        {\n",
      "            \"Id\": \"counter\",\n",
      "            \"Name\": null,\n",
      "            \"Description\": null,\n",
      "            \"SdsType\": {\n",
      "                \"SdsTypeCode\": 15,\n",
      "                \"Id\": null,\n",
      "                \"Name\": null,\n",
      "                \"Description\": null,\n",
      "                \"ExtrapolationMode\": 0,\n",
      "                \"InterpolationMode\": 0\n",
      "            },\n",
      "            \"Value\": null,\n",
      "            \"Order\": 0,\n",
      "            \"IsKey\": false,\n",
      "            \"InterpolationMode\": 1,\n",
      "            \"Uom\": null\n",
      "        },\n",
      "        {\n",
      "            \"Id\": \"channel\",\n",
      "            \"Name\": null,\n",
      "            \"Description\": null,\n",
      "            \"SdsType\": {\n",
      "                \"SdsTypeCode\": 14,\n",
      "                \"Id\": null,\n",
      "                \"Name\": null,\n",
      "                \"Description\": null,\n",
      "                \"ExtrapolationMode\": 0,\n",
      "                \"InterpolationMode\": 0\n",
      "            },\n",
      "            \"Value\": null,\n",
      "            \"Order\": 0,\n",
      "            \"IsKey\": false,\n",
      "            \"InterpolationMode\": null,\n",
      "            \"Uom\": null\n",
      "        }\n",
      "    ],\n",
      "    \"Id\": \"SDSpolation1.object3\",\n",
      "    \"Name\": \"bearing_channel\",\n",
      "    \"Description\": \"no interpolation or extrapolation\",\n",
      "    \"ExtrapolationMode\": 1,\n",
      "    \"InterpolationMode\": 0\n",
      "}\n"
     ]
    }
   ],
   "source": [
    "# for this step we just update/add to the previous type defintion to create the new type\n",
    "\n",
    "thetype['id'] = f'{example_prefix}object3' # unique identifier for the stream\n",
    "thetype['description'] = 'interpolation and extrapolaltion example'\n",
    "\n",
    "bearing.Id = thetype['id']\n",
    "bearing.ExtrapolationMode = SdsStreamExtrapolation.Nonex.value\n",
    "\n",
    "try:\n",
    "    bearing_type = ocsClient.Types.getOrCreateType(namespace_id, bearing)\n",
    "except:\n",
    "    bearing_type = ocsClient.Types.getType(namespace_id,bearing.Id)\n",
    "ocsClient.acceptverbosity = True\n",
    "print(json.dumps(json.loads(bearing_type.toJson()), indent=4))"
   ]
  },
  {
   "cell_type": "code",
   "execution_count": 6,
   "metadata": {},
   "outputs": [
    {
     "name": "stdout",
     "output_type": "stream",
     "text": [
      "id: SDSpolation1.bearing1, name: bearing1, type: SDSpolation1.object1\n",
      "id: SDSpolation1.bearing2, name: bearing2, type: SDSpolation1.object2\n",
      "id: SDSpolation1.bearing3, name: bearing3, type: SDSpolation1.object3\n"
     ]
    }
   ],
   "source": [
    "# Create a stream for each of the defined types\n",
    "for bearing in range(1,4):\n",
    "    # If you want to recreate/modify the dataset by deleting/re-creating the stream:\n",
    "    # ocsClient.Streams.deleteStream(namespace_id,f'{example_prefix}bearing{bearing}')\n",
    "    sds_stream = SdsStream(id=f'{example_prefix}bearing{bearing}',name=f'bearing{bearing}', description=f'Bearing {bearing} Channel 1', typeId=f'{example_prefix}object{bearing}')\n",
    "    try:\n",
    "        stream = ocsClient.Streams.getOrCreateStream(namespace_id,sds_stream)\n",
    "    except:\n",
    "        stream = ocsClient.Streams.getStream(namespace_id,f'{example_prefix}bearing{bearing}')\n",
    "    print(f'id: {stream.Id}, name: {stream.Name}, type: {stream.TypeId}')"
   ]
  },
  {
   "cell_type": "code",
   "execution_count": 7,
   "metadata": {},
   "outputs": [],
   "source": [
    "# define a set of values\n",
    "# create stream events\n",
    "values = [ {'timestamp': '2004-02-19T06:19:00Z', 'counter': 0, 'channel': -0.872},\n",
    "           {'timestamp': '2004-02-19T06:21:00Z', 'counter': 1, 'channel': 0.002},\n",
    "           {'timestamp': '2004-02-19T06:23:00Z', 'counter': 2, 'channel': -0.438},\n",
    "           {'timestamp': '2004-02-19T06:25:00Z', 'counter': 3, 'channel': 0.222},\n",
    "           {'timestamp': '2004-02-19T06:27:00Z', 'counter': 4, 'channel': 0.678}]\n",
    "\n",
    "# Create values for each of the streams\n",
    "for bearing in range(1,4):\n",
    "    # insert values\n",
    "    try:\n",
    "        ocsClient.Streams.insertValues(namespace_id,f'{example_prefix}bearing{bearing}',json.dumps(values))\n",
    "    except Exception as e:\n",
    "        print(f'Unable to add stream events: {e}')"
   ]
  },
  {
   "cell_type": "code",
   "execution_count": 8,
   "metadata": {},
   "outputs": [],
   "source": [
    "# setup variables for use in queries\n",
    "start_time = '2004-02-19T06:14:00Z'\n",
    "end_time = '2004-02-19T06:30:00Z'\n",
    "start_datetime = (datetime.datetime.strptime(start_time,\"%Y-%m-%dT%H:%M:%SZ\"))\n",
    "end_datetime = (datetime.datetime.strptime(end_time,\"%Y-%m-%dT%H:%M:%SZ\"))\n"
   ]
  },
  {
   "cell_type": "code",
   "execution_count": 21,
   "metadata": {},
   "outputs": [],
   "source": [
    "# print all output\n",
    "from IPython.core.interactiveshell import InteractiveShell\n",
    "InteractiveShell.ast_node_interactivity = \"all\"\n",
    "\n",
    "# helper function to plot stream values\n",
    "def plot_values(stream_number_suffix):\n",
    "    ocsClient.acceptverbosity = True  # return values that are default values.By default \n",
    "    # these are not returned..\n",
    "    # query for interpolated data using the first type created\n",
    "    response = ocsClient.Streams.getRangeValuesInterpolated(namespace_id,\n",
    "                                                            stream_id=f'{example_prefix}bearing{stream_number_suffix}',\n",
    "                                                            value_class=None,\n",
    "                                                            start=start_datetime,\n",
    "                                                            end=end_datetime,\n",
    "                                                            count=10)\n",
    "    # put it in a dataframe and display\n",
    "    df_result = pd.DataFrame.from_dict(response)\n",
    "    df_result['timestamp'] = pd.to_datetime(df_result['timestamp'],infer_datetime_format=True)\n",
    "    df_result.set_index('timestamp', inplace=True)\n",
    "    print(df_result)\n",
    "    sns.lineplot(data=df_result,markers=True)"
   ]
  },
  {
   "cell_type": "code",
   "execution_count": 22,
   "metadata": {},
   "outputs": [
    {
     "name": "stdout",
     "output_type": "stream",
     "text": [
      "                                      counter   channel\n",
      "timestamp                                              \n",
      "2004-02-19 06:14:00+00:00            0.000000 -0.872000\n",
      "2004-02-19 06:15:46.666666600+00:00  0.000000 -0.872000\n",
      "2004-02-19 06:17:33.333333200+00:00  0.000000 -0.872000\n",
      "2004-02-19 06:19:19.999999800+00:00  0.166667 -0.726333\n",
      "2004-02-19 06:21:06.666666400+00:00  1.055556 -0.022444\n",
      "2004-02-19 06:22:53.333333+00:00     1.944444 -0.413556\n",
      "2004-02-19 06:24:39.999999600+00:00  2.833333  0.112000\n",
      "2004-02-19 06:26:26.666666200+00:00  3.722222  0.551333\n",
      "2004-02-19 06:28:13.333332800+00:00  4.000000  0.678000\n",
      "2004-02-19 06:30:00+00:00            4.000000  0.678000\n"
     ]
    },
    {
     "data": {
      "image/png": "[encoded data removed]",
      "text/plain": [
       "<Figure size 432x288 with 1 Axes>"
      ]
     },
     "metadata": {
      "needs_background": "light"
     },
     "output_type": "display_data"
    }
   ],
   "source": [
    "plot_values(1) # note values outside of dataset range and non-decimal counter values"
   ]
  },
  {
   "cell_type": "code",
   "execution_count": 11,
   "metadata": {},
   "outputs": [
    {
     "name": "stdout",
     "output_type": "stream",
     "text": [
      "                                     counter   channel\n",
      "timestamp                                             \n",
      "2004-02-19 06:14:00+00:00                0.0 -0.872000\n",
      "2004-02-19 06:15:46.666666600+00:00      0.0 -0.872000\n",
      "2004-02-19 06:17:33.333333200+00:00      0.0 -0.872000\n",
      "2004-02-19 06:19:19.999999800+00:00      0.0 -0.726333\n",
      "2004-02-19 06:21:06.666666400+00:00      1.0 -0.022444\n",
      "2004-02-19 06:22:53.333333+00:00         1.0 -0.413556\n",
      "2004-02-19 06:24:39.999999600+00:00      2.0  0.112000\n",
      "2004-02-19 06:26:26.666666200+00:00      3.0  0.551333\n",
      "2004-02-19 06:28:13.333332800+00:00      4.0  0.678000\n",
      "2004-02-19 06:30:00+00:00                4.0  0.678000\n"
     ]
    },
    {
     "data": {
      "image/png": "[encoded data removed]",
      "text/plain": [
       "<Figure size 432x288 with 1 Axes>"
      ]
     },
     "metadata": {
      "needs_background": "light"
     },
     "output_type": "display_data"
    }
   ],
   "source": [
    "plot_values(2) # counter values are now decimal"
   ]
  },
  {
   "cell_type": "code",
   "execution_count": 12,
   "metadata": {},
   "outputs": [
    {
     "name": "stdout",
     "output_type": "stream",
     "text": [
      "                                     counter   channel\n",
      "timestamp                                             \n",
      "2004-02-19 06:19:19.999999800+00:00      0.0 -0.726333\n",
      "2004-02-19 06:21:06.666666400+00:00      1.0 -0.022444\n",
      "2004-02-19 06:22:53.333333+00:00         1.0 -0.413556\n",
      "2004-02-19 06:24:39.999999600+00:00      2.0  0.112000\n",
      "2004-02-19 06:26:26.666666200+00:00      3.0  0.551333\n"
     ]
    },
    {
     "data": {
      "image/png": "[encoded data removed]",
      "text/plain": [
       "<Figure size 432x288 with 1 Axes>"
      ]
     },
     "metadata": {
      "needs_background": "light"
     },
     "output_type": "display_data"
    }
   ],
   "source": [
    "plot_values(3) # no values outside dataset range"
   ]
  },
  {
   "cell_type": "code",
   "execution_count": 13,
   "metadata": {},
   "outputs": [],
   "source": [
    "# Exercise create a type, values and display values where the counter is discrete and there are no values outside of the dataset range"
   ]
  },
  {
   "cell_type": "code",
   "execution_count": 14,
   "metadata": {},
   "outputs": [],
   "source": [
    "# Clean-up environment - delete type and streams with {example_prefix} prefix defined earlier\n",
    "# Note: don't do this if you plan to run subsequent notebooks in this \"group\"\n",
    "\n",
    "def cleanup(run=False):\n",
    "        for stream in ocsClient.Streams.getStreams(namespace_id,f'{example_prefix}*'):\n",
    "            print(f'stream id: {stream.Id}, stream name: {stream.Name}')\n",
    "            if run:\n",
    "                try:\n",
    "                    ocsClient.Streams.deleteStream(namespace_id,stream.Id)\n",
    "                except:\n",
    "                    pass\n",
    "        for type in ocsClient.Types.getTypes(namespace_id,query=f'{example_prefix}*'):\n",
    "            print(f'type id: {type.Id}, type name: {type.Name}')\n",
    "            if run:\n",
    "                try:\n",
    "                    ocsClient.Types.deleteType(namespace_id,type.Id)\n",
    "                    ocsClient.Types.deleteType(namespace_id,type.TypeId)\n",
    "                except:\n",
    "                    pass\n",
    "        \n",
    "# cleanup - disabled, i.e: False and commented:\n",
    "#cleanup(False)"
   ]
  },
  {
   "cell_type": "code",
   "execution_count": 23,
   "metadata": {},
   "outputs": [],
   "source": [
    "!pip freeze > requirements.txt"
   ]
  }
 ],
 "metadata": {
  "kernelspec": {
   "display_name": "Python 3",
   "language": "python",
   "name": "python3"
  },
  "language_info": {
   "codemirror_mode": {
    "name": "ipython",
    "version": 3
   },
   "file_extension": ".py",
   "mimetype": "text/x-python",
   "name": "python",
   "nbconvert_exporter": "python",
   "pygments_lexer": "ipython3",
   "version": "3.7.3"
  }
 },
 "nbformat": 4,
 "nbformat_minor": 4
}
