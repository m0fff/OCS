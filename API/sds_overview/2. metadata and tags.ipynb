{
 "cells": [
  {
   "cell_type": "markdown",
   "metadata": {},
   "source": [
    "OSIsoft Cloud Services REST API\n",
    "\n",
    "requirements:<br>\n",
    "Juptyer notebook or lab<br>\n",
    "Python ocs_sample_library https://github.com/osisoft/OSI-Samples/tree/master/ocs_samples/library_samples/Python3<br>\n",
    "config.ini configured for your OSIsoft Cloud Services environment https://github.com/osisoft/OSI-Samples/tree/master/ocs_samples/basic_samples/SDS/Python/SDSPy/Python3<br>\n",
    "\n",
    "objective:<br>\n",
    "Create metadata and tags for streams"
   ]
  },
  {
   "cell_type": "code",
   "execution_count": 1,
   "metadata": {},
   "outputs": [],
   "source": [
    "# specify a unique prefix to create objects, suggestion use your nickname\n",
    "example_prefix = 'SDSPrefix.'\n",
    "# setup the environment, using statements defined in a python script file\n",
    "%run setup.py"
   ]
  },
  {
   "cell_type": "code",
   "execution_count": 2,
   "metadata": {},
   "outputs": [
    {
     "data": {
      "text/plain": [
       "'efe27258-f6d5-4ea6-a001-3e4a82777710'"
      ]
     },
     "execution_count": 2,
     "metadata": {},
     "output_type": "execute_result"
    }
   ],
   "source": [
    "# verify we have a connection to the tenant, the tenant name should be returned\n",
    "ocsClient.tenant"
   ]
  },
  {
   "cell_type": "code",
   "execution_count": 3,
   "metadata": {},
   "outputs": [
    {
     "name": "stdout",
     "output_type": "stream",
     "text": [
      "name: bearing3, id: SDSPrefix.Bearing3\n",
      "name: bearing2, id: SDSPrefix.Bearing2\n",
      "name: bearing1, id: SDSPrefix.Bearing1\n",
      "name: bearing4, id: SDSPrefix.Bearing4\n"
     ]
    }
   ],
   "source": [
    "# list the streams - if these do not exist, run the previous notebook to create\n",
    "for stream in ocsClient.Streams.getStreams(namespace_id,query=f'{example_prefix}Bearing*'):\n",
    "    print(f'name: {stream.Name}, id: {stream.Id}')"
   ]
  },
  {
   "cell_type": "code",
   "execution_count": 4,
   "metadata": {},
   "outputs": [],
   "source": [
    "# define a helper function to update tags for stream(s)\n",
    "\n",
    "#\n",
    "#add_tags - add a tag to supplied streams. If reset is True clear any existing tags first\n",
    "#\n",
    "def add_tags(namespace_id,streams,tag,reset=False):\n",
    "    for stream in streams:\n",
    "        # Check if there are any existing tags and if so add the new tag\n",
    "        tags = ocsClient.Streams.getTags(namespace_id,stream.Id)\n",
    "        if tags is not None and not reset:\n",
    "            if tag not in tags:\n",
    "                tags.append(tag)\n",
    "        else:\n",
    "            tags = [tag]\n",
    "        ocsClient.Streams.createOrUpdateTags(namespace_id,stream.Id,tags)"
   ]
  },
  {
   "cell_type": "code",
   "execution_count": 5,
   "metadata": {},
   "outputs": [],
   "source": [
    "# cooler sensor streams\n",
    "tag = \"sensor_cooler\"\n",
    "streams = ocsClient.Streams.getStreams(namespace_id,query=\"{prefix}Bearing1 \\\n",
    "                                              or {prefix}Bearing2\".format(prefix=example_prefix))\n",
    "add_tags(namespace_id,streams,tag,reset=True) \n",
    "\n",
    "# hydraulic sensor streams\n",
    "tag = \"sensor_hydraulic\"\n",
    "streams = ocsClient.Streams.getStreams(namespace_id,query=\"{prefix}Bearing3 \\\n",
    "                                              or {prefix}Bearing4\".format(prefix=example_prefix))\n",
    "\n",
    "add_tags(namespace_id,streams,tag,reset=True)\n",
    "\n",
    "# sensor streams\n",
    "tag = \"sensor\"\n",
    "streams = ocsClient.Streams.getStreams(namespace_id,query='{prefix}Bearing*'.format(prefix=example_prefix))               \n",
    "add_tags(namespace_id,streams,tag,reset=False)"
   ]
  },
  {
   "cell_type": "code",
   "execution_count": 6,
   "metadata": {},
   "outputs": [
    {
     "data": {
      "text/plain": [
       "[('bearing1', 'SDSPrefix.Bearing1'), ('bearing2', 'SDSPrefix.Bearing2')]"
      ]
     },
     "execution_count": 6,
     "metadata": {},
     "output_type": "execute_result"
    },
    {
     "data": {
      "text/plain": [
       "[('bearing3', 'SDSPrefix.Bearing3'), ('bearing4', 'SDSPrefix.Bearing4')]"
      ]
     },
     "execution_count": 6,
     "metadata": {},
     "output_type": "execute_result"
    },
    {
     "data": {
      "text/plain": [
       "[('bearing1', 'SDSPrefix.Bearing1'),\n",
       " ('bearing2', 'SDSPrefix.Bearing2'),\n",
       " ('bearing3', 'SDSPrefix.Bearing3'),\n",
       " ('bearing4', 'SDSPrefix.Bearing4')]"
      ]
     },
     "execution_count": 6,
     "metadata": {},
     "output_type": "execute_result"
    }
   ],
   "source": [
    "# query streams using tag name\n",
    "sorted([(stream.Name,stream.Id) for stream in ocsClient.Streams.getStreams(namespace_id,query='sensor_cooler')])\n",
    "sorted([(stream.Name,stream.Id) for stream in ocsClient.Streams.getStreams(namespace_id,query='sensor_hydraulic')])\n",
    "sorted([(stream.Name,stream.Id) for stream in ocsClient.Streams.getStreams(namespace_id,query='sensor')])"
   ]
  },
  {
   "cell_type": "code",
   "execution_count": 7,
   "metadata": {},
   "outputs": [],
   "source": [
    "# create metadata entry for each stream\n",
    "for stream in ocsClient.Streams.getStreams(namespace_id,query='sensor'):\n",
    "    ocsClient.Streams.createOrUpdateMetadata(namespace_id,stream.Id,{\"site\":\"Palo Verde\"})"
   ]
  },
  {
   "cell_type": "code",
   "execution_count": 8,
   "metadata": {},
   "outputs": [
    {
     "name": "stdout",
     "output_type": "stream",
     "text": [
      "bearing3: Palo Verde\n",
      "bearing2: Palo Verde\n",
      "bearing1: Palo Verde\n",
      "bearing4: Palo Verde\n"
     ]
    }
   ],
   "source": [
    "# return the value for the metadata key: site \n",
    "for stream in ocsClient.Streams.getStreams(namespace_id,query='sensor'):\n",
    "    print(f'{stream.Name}: {ocsClient.Streams.getMetadata(namespace_id,stream.Id,\"site\")}')"
   ]
  },
  {
   "cell_type": "code",
   "execution_count": null,
   "metadata": {},
   "outputs": [],
   "source": [
    "# Clean-up environment - delete type and streams with {example_prefix} prefix defined earlier\n",
    "\n",
    "def cleanup(run=False):\n",
    "        for stream in ocsClient.Streams.getStreams(namespace_id,f'{example_prefix}*'):\n",
    "            print(f'stream id: {stream.Id}, stream name: {stream.Name}')\n",
    "            if run:\n",
    "                try:\n",
    "                    ocsClient.Streams.deleteStream(namespace_id,stream.Id)\n",
    "                except:\n",
    "                    pass\n",
    "        for type in ocsClient.Types.getTypes(namespace_id,query=f'{example_prefix}*'):\n",
    "            print(f'type id: {type.Id}, type name: {type.Name}')\n",
    "            if run:\n",
    "                try:\n",
    "                    ocsClient.Types.deleteType(namespace_id,type.Id)\n",
    "                    ocsClient.Types.deleteType(namespace_id,type.TypeId)\n",
    "                except:\n",
    "                    pass\n",
    "        \n",
    "# cleanup - disabled, i.e: False and commented:\n",
    "#cleanup(False)"
   ]
  }
 ],
 "metadata": {
  "kernelspec": {
   "display_name": "Python 3",
   "language": "python",
   "name": "python3"
  },
  "language_info": {
   "codemirror_mode": {
    "name": "ipython",
    "version": 3
   },
   "file_extension": ".py",
   "mimetype": "text/x-python",
   "name": "python",
   "nbconvert_exporter": "python",
   "pygments_lexer": "ipython3",
   "version": "3.7.3"
  }
 },
 "nbformat": 4,
 "nbformat_minor": 4
}
