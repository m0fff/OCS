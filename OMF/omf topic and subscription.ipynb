{
 "cells": [
  {
   "cell_type": "markdown",
   "metadata": {},
   "source": [
    "# explore how OMF applications interact with OSIsoft Cloud Services\n",
    "\n",
    "Topic, Subscription creation and related configuration\n",
    "\n",
    "two scenarios\n",
    "1. OMF application can create and write to types and streams\n",
    "2. OMF application can only write to specific streams"
   ]
  },
  {
   "cell_type": "code",
   "execution_count": 1,
   "metadata": {},
   "outputs": [],
   "source": [
    "# specify a unique prefix to create objects, suggestion use your nickname!\n",
    "example_prefix = 'oak'"
   ]
  },
  {
   "cell_type": "code",
   "execution_count": 2,
   "metadata": {},
   "outputs": [
    {
     "name": "stdout",
     "output_type": "stream",
     "text": [
      "Requirement already satisfied: ocs_sample_library_preview in c:\\programdata\\anaconda3\\lib\\site-packages (0.0.34rc0)\n",
      "Requirement already satisfied: requests==2.22.0 in c:\\programdata\\anaconda3\\lib\\site-packages (from ocs_sample_library_preview) (2.22.0)\n",
      "Requirement already satisfied: python-dateutil==2.8.0 in c:\\programdata\\anaconda3\\lib\\site-packages (from ocs_sample_library_preview) (2.8.0)\n",
      "Requirement already satisfied: idna<2.9,>=2.5 in c:\\programdata\\anaconda3\\lib\\site-packages (from requests==2.22.0->ocs_sample_library_preview) (2.7)\n",
      "Requirement already satisfied: certifi>=2017.4.17 in c:\\programdata\\anaconda3\\lib\\site-packages (from requests==2.22.0->ocs_sample_library_preview) (2019.6.16)\n",
      "Requirement already satisfied: urllib3!=1.25.0,!=1.25.1,<1.26,>=1.21.1 in c:\\programdata\\anaconda3\\lib\\site-packages (from requests==2.22.0->ocs_sample_library_preview) (1.23)\n",
      "Requirement already satisfied: chardet<3.1.0,>=3.0.2 in c:\\programdata\\anaconda3\\lib\\site-packages (from requests==2.22.0->ocs_sample_library_preview) (3.0.4)\n",
      "Requirement already satisfied: six>=1.5 in c:\\programdata\\anaconda3\\lib\\site-packages (from python-dateutil==2.8.0->ocs_sample_library_preview) (1.11.0)\n"
     ]
    },
    {
     "name": "stderr",
     "output_type": "stream",
     "text": [
      "WARNING: You are using pip version 19.2.1, however version 19.3 is available.\n",
      "You should consider upgrading via the 'python -m pip install --upgrade pip' command.\n"
     ]
    }
   ],
   "source": [
    "!pip3 install ocs_sample_library_preview"
   ]
  },
  {
   "cell_type": "code",
   "execution_count": 3,
   "metadata": {},
   "outputs": [
    {
     "name": "stdout",
     "output_type": "stream",
     "text": [
      "Using OSIsoft OCS sample library\n",
      "\n",
      "url: https://staging.osipi.com\n",
      "tenant: efe27258-f6d5-4ea6-a001-3e4a82777710\n",
      "namespace: 8200557b-8fa9-4b4f-a884-92967c79251f\n",
      "\n"
     ]
    }
   ],
   "source": [
    "# setup the environment, using statements defined in a python script file\n",
    "# this requires a config.ini file configured for your OCS environment\n",
    "%run ocs_setup.py\n",
    "\n",
    "# Create a second object to access OCS to query routes that are not supported in the OCS sample Python library\n",
    "# use previously defined config object to use the same configuration information\n",
    "baseClient = BaseClient(\"v1\", config.get('Access', 'Tenant'), config.get('Access', 'Resource'), \n",
    "                        config.get('Credentials', 'ClientId'), config.get('Credentials', 'ClientSecret'))\n",
    "\n",
    "# Customize namespace_id if reqeuired\n",
    "#namespace_id = \"DerekETesting\"\n",
    "\n",
    "# define the uri prefix for the namespace\n",
    "baseUri = f'{baseClient.uri_API}/Tenants/{baseClient.tenant}/Namespaces/{namespace_id}'\n",
    "\n",
    "# verify everything looks correct!\n",
    "print(f'''\n",
    "url: {ocsClient.uri}\n",
    "tenant: {ocsClient.tenant}\n",
    "namespace: {namespace_id}\n",
    "''')"
   ]
  },
  {
   "cell_type": "markdown",
   "metadata": {},
   "source": [
    "# Configuration details for the OMF application"
   ]
  },
  {
   "cell_type": "code",
   "execution_count": 4,
   "metadata": {},
   "outputs": [],
   "source": [
    "#\n",
    "# Set configuration information to create topic and subscription\n",
    "# Unless customizing, for the purposes of this example, no changes are required\n",
    "#\n",
    "\n",
    "# topic associates a client - used by the OMF application with OCS\n",
    "conf_topic = {\n",
    "  \"Name\": f\"{example_prefix}.omf.app.write\",\n",
    "  \"Description\": \"create and write objects\",\n",
    "  \"ClientIds\": [f\"{example_prefix}.devices\"]}\n",
    "  \n",
    "# subscription associates a topic with a namespace\n",
    "# there can be multiple subscriptions per topic\n",
    "conf_subscription = { \n",
    "  \"Name\": f\"{example_prefix}.omf.write\",\n",
    "  \"Description\": \"create and write objects\",\n",
    "  \"NamespaceId\": namespace_id,\n",
    "  \"TenantId\": ocsClient.tenant,\n",
    "  \"TopicNamespaceId\": namespace_id,\n",
    "  \"TopicTenantId\": ocsClient.tenant,\n",
    "  \"Owner\": f\"{example_prefix}.omf.write\",\n",
    "  \"Role\": f\"{example_prefix}.omf.write\"\n",
    "}\n",
    "\n",
    "# subscription that will only have write access to specific streams\n",
    "conf_subscription_restricted = conf_subscription.copy()\n",
    "conf_subscription_restricted.update({ \n",
    "  \"Name\": f\"{example_prefix}.omf.write.restricted\",\n",
    "  \"Description\": \"write to specific objects only\",\n",
    "  \"Owner\": f\"{example_prefix}.omf.write.restricted\",\n",
    "  \"Role\": f\"{example_prefix}.omf.write.restricted\"\n",
    "})"
   ]
  },
  {
   "cell_type": "code",
   "execution_count": 5,
   "metadata": {},
   "outputs": [
    {
     "data": {
      "text/plain": [
       "{'Name': 'oak.omf.app.write',\n",
       " 'Description': 'create and write objects',\n",
       " 'ClientIds': ['oak.devices']}"
      ]
     },
     "execution_count": 5,
     "metadata": {},
     "output_type": "execute_result"
    },
    {
     "data": {
      "text/plain": [
       "{'Name': 'oak.omf.write',\n",
       " 'Description': 'create and write objects',\n",
       " 'NamespaceId': '8200557b-8fa9-4b4f-a884-92967c79251f',\n",
       " 'TenantId': 'efe27258-f6d5-4ea6-a001-3e4a82777710',\n",
       " 'TopicNamespaceId': '8200557b-8fa9-4b4f-a884-92967c79251f',\n",
       " 'TopicTenantId': 'efe27258-f6d5-4ea6-a001-3e4a82777710',\n",
       " 'Owner': 'oak.omf.write',\n",
       " 'Role': 'oak.omf.write'}"
      ]
     },
     "execution_count": 5,
     "metadata": {},
     "output_type": "execute_result"
    },
    {
     "data": {
      "text/plain": [
       "{'Name': 'oak.omf.write.restricted',\n",
       " 'Description': 'write to specific objects only',\n",
       " 'NamespaceId': '8200557b-8fa9-4b4f-a884-92967c79251f',\n",
       " 'TenantId': 'efe27258-f6d5-4ea6-a001-3e4a82777710',\n",
       " 'TopicNamespaceId': '8200557b-8fa9-4b4f-a884-92967c79251f',\n",
       " 'TopicTenantId': 'efe27258-f6d5-4ea6-a001-3e4a82777710',\n",
       " 'Owner': 'oak.omf.write.restricted',\n",
       " 'Role': 'oak.omf.write.restricted'}"
      ]
     },
     "execution_count": 5,
     "metadata": {},
     "output_type": "execute_result"
    }
   ],
   "source": [
    "# review configuration settings\n",
    "conf_topic\n",
    "conf_subscription\n",
    "conf_subscription_restricted"
   ]
  },
  {
   "cell_type": "markdown",
   "metadata": {},
   "source": [
    "# Query types and streams - verify we have access"
   ]
  },
  {
   "cell_type": "code",
   "execution_count": null,
   "metadata": {},
   "outputs": [],
   "source": [
    "# query types\n",
    "for ocs_type in ocsClient.Types.getTypes(namespace_id,query=\"*\",count=200):\n",
    "    print(f'id: {ocs_type.Id:40} name: {ocs_type.Name}')"
   ]
  },
  {
   "cell_type": "code",
   "execution_count": null,
   "metadata": {},
   "outputs": [],
   "source": [
    "# display stream events\n",
    "for stream in ocsClient.Streams.getStreams(namespace_id,query=\"*\"):\n",
    "    print(stream.Name)\n",
    "    print(ocsClient.Streams.getLastValue(namespace_id,stream.Id))"
   ]
  },
  {
   "cell_type": "markdown",
   "metadata": {},
   "source": [
    "# helper functions - simplify OCS access\n",
    "\n",
    "Ideally this code would be in a library - idea for the future"
   ]
  },
  {
   "cell_type": "code",
   "execution_count": 8,
   "metadata": {},
   "outputs": [],
   "source": [
    "# construct objects to enable queries to OCS that are not supported by the OCS sample Python library\n",
    "\n",
    "import requests\n",
    "baseUri = None\n",
    "\n",
    "def requestOCS(path,verb=None,payload=None,http_code=False,debug=False):\n",
    "    \"\"\"\n",
    "    query data from OCS REST API - useful where OCS Python library does not support an API route or feature\n",
    "    :param path: uri suffix of API call to append to baseUri parameter (which is usually a route to the namespace)\n",
    "    :param verb: HTTP verb, default: get\n",
    "    :param payload: for POST, PUT requests\n",
    "    :param http_code: print http status code\n",
    "    :param debug: display route \n",
    "    \"\"\"\n",
    "    baseUri = f'{baseClient.uri_API}/Tenants/{baseClient.tenant}/Namespaces/{namespace_id}'\n",
    "    if debug:\n",
    "        baseClient.AcceptVerbosity = True\n",
    "        print(f'route {baseUri}{path}')\n",
    "    if verb is None or verb.lower() == \"get\":\n",
    "        baseClient.AcceptVerbosity = True\n",
    "        response = requests.get(\n",
    "                f'{baseUri}{path}',\n",
    "        headers=baseClient.sdsHeaders())\n",
    "    elif verb.lower() == \"post\":\n",
    "        response = requests.post(\n",
    "                f'{baseUri}{path}',\n",
    "                data=payload,\n",
    "        headers=baseClient.sdsHeaders())\n",
    "    elif verb.lower() == \"put\":\n",
    "        response = requests.put(\n",
    "                f'{baseUri}{path}',\n",
    "                data=payload,\n",
    "        headers=baseClient.sdsHeaders())\n",
    "    elif verb.lower() == \"delete\":\n",
    "        response = requests.delete(\n",
    "                f'{baseUri}{path}',\n",
    "        headers=baseClient.sdsHeaders())\n",
    "    else:\n",
    "        print(f\"can't grok that\")\n",
    "        return\n",
    "    if http_code:\n",
    "        print(f'http code: {response.status_code}')\n",
    "    baseClient.checkResponse(\n",
    "            response, f\"Query failed.\"\n",
    "    )\n",
    "    if response.content is not None:\n",
    "        try:\n",
    "            content = json.loads(response.content.decode('utf-8'))\n",
    "            #print(content)\n",
    "            return content\n",
    "        except:\n",
    "            print(response.text)\n",
    "    if response.status_code < 200 or response.status_code >= 300:\n",
    "        print(\"an error!\")\n",
    "    response.close()\n",
    "    \n",
    "# load lookup tables for users, roles and clients to augment displaying objects that show GUIDs\n",
    "def cache():\n",
    "    global users,clients,roles\n",
    "    users = {}\n",
    "    clients =  {}\n",
    "    roles = {}\n",
    "    user_count = 400 # guess a number larger than # of clients, do this better...\n",
    "    response = requestOCS(f'/../../users?count={user_count}',\"get\")\n",
    "    for user in response:\n",
    "        #print(f\"{client['ClientId']:20},{client['Name']}\")\n",
    "        users[user['Id']] = user['Name']\n",
    "    if len(users) == 400:\n",
    "        print(\"not all users retrieved, update user_count\")\n",
    "    clients = {}\n",
    "    client_count = 400 # guess a number larger than # of clients, do this better...\n",
    "    response = requestOCS(f'/../../clientcredentialclients?count={client_count}',\"get\")\n",
    "    for client in response:\n",
    "        #print(f\"{client['Id']:20},{client['Name']}\")\n",
    "        clients[client['Id']] = client['Name']\n",
    "\n",
    "    roles = {}\n",
    "    response = requestOCS(f'/../../roles',\"get\")\n",
    "    for role in response:\n",
    "    #    print(f\"{role['Id']:20},{role['Name']}\")\n",
    "        roles[role['Id']] = role['Name']\n",
    "    \n",
    "# given a acl, replace id with name\n",
    "def lookup_ace_id(response):\n",
    "    \"\"\" lookup_id\n",
    "    \"\"\"\n",
    "    for x in response['RoleTrusteeAccessControlEntries']:\n",
    "        object_name = x['Trustee']['ObjectId']\n",
    "        try:\n",
    "            if clients[object_name]:\n",
    "                 x['Trustee']['ObjectId'] = clients[object_name]\n",
    "        except:\n",
    "            pass\n",
    "        try:\n",
    "            if roles[object_name]:\n",
    "                 x['Trustee']['ObjectId'] = roles[object_name]\n",
    "        except:\n",
    "            pass\n",
    "    return response\n",
    "\n",
    "# given a list object replace client id with name\n",
    "def lookup_client_id(response):\n",
    "    \"\"\" lookup_clientid\n",
    "    \"\"\"\n",
    "    if isinstance(response, list):\n",
    "        for record in response:\n",
    "            client_object = []\n",
    "            for client in record['ClientIds']:\n",
    "                client_object.append(clients[client])\n",
    "            if client_object is not None:\n",
    "                record['ClientIds'] = client_object\n",
    "    elif isinstance(response,str):\n",
    "        response = clients[response]\n",
    "    return response\n",
    "\n",
    "# try to find a matching name for given id\n",
    "def lookup_id(id):\n",
    "    \"\"\" lookup_clientid\n",
    "    \"\"\"\n",
    "    if isinstance(id,str):\n",
    "        try:\n",
    "            if clients[id]:\n",
    "                id = clients[id]\n",
    "        except:\n",
    "            pass\n",
    "        try:\n",
    "            if roles[id]:\n",
    "                id = roles[id]\n",
    "        except:\n",
    "            pass\n",
    "        try:\n",
    "            if users[id]:\n",
    "                id = users[id]\n",
    "        except:\n",
    "            pass\n",
    "    if isinstance(id,dict):\n",
    "        try:\n",
    "            if clients[id['ObjectId']]:\n",
    "                id['ObjectId'] = clients[id['ObjectId']]\n",
    "        except:\n",
    "            pass\n",
    "        try:\n",
    "            if roles[id['ObjectId']]:\n",
    "                id['ObjectId'] = roles[id['ObjectId']]\n",
    "        except:\n",
    "            pass\n",
    "        try:\n",
    "            if users[id['ObjectId']]:\n",
    "                id['ObjectId'] = users[id['ObjectId']]\n",
    "        except:\n",
    "            pass\n",
    "    return id\n",
    "\n",
    "# load the cache\n",
    "cache()"
   ]
  },
  {
   "cell_type": "markdown",
   "metadata": {},
   "source": [
    "# Check if objects exist\n",
    "if objects exist either change the configuration settings or delete objects, see also, delete examples in this notebook"
   ]
  },
  {
   "cell_type": "code",
   "execution_count": 9,
   "metadata": {},
   "outputs": [
    {
     "name": "stdout",
     "output_type": "stream",
     "text": [
      "topic does not exist\n",
      "subscription does not exist\n",
      "topic ClientIds do not exist\n",
      "subscription owner does not exist\n",
      "roles do not exist\n"
     ]
    }
   ],
   "source": [
    "# print topic if it exists based upon configuration\n",
    "response = requestOCS(f\"/Topics\")\n",
    "obj = [obj for obj in response if obj['Name'] == conf_topic['Name']]\n",
    "pprint.pprint(lookup_client_id(obj)) if obj else print(\"topic does not exist\")\n",
    "if obj:\n",
    "    # print topic client if it exists\n",
    "    for client in obj[0]['ClientIds']:\n",
    "        #print(client)\n",
    "        _ = [(\"topic client: \",key,value) for key,value in clients.items() if key == client]\n",
    "\n",
    "# ... for subscription\n",
    "response = requestOCS(f\"/Subscriptions\")\n",
    "obj = [obj for obj in response if obj['Name'] == conf_subscription['Name']]\n",
    "pprint.pprint(obj) if obj else print(\"subscription does not exist\")\n",
    "if obj:\n",
    "    # display subscription owner\n",
    "    response = requestOCS(f\"/Subscriptions/{obj[0]['Id']}/owner\")\n",
    "    pprint.pprint(lookup_id(response))\n",
    "    _ = [(\"user: \",key,value) for key,value in users.items() if key == response['ObjectId']]\n",
    "    _ = [(\"client: \",key,value) for key,value in clients.items() if key == response['ObjectId']]\n",
    "\n",
    "# for configuration topic clients\n",
    "for client in conf_topic['ClientIds']:\n",
    "    _ = [(\"topic client: \",key,value) for key,value in clients.items() if value == client]\n",
    "if not _:\n",
    "    print(\"topic ClientIds do not exist\")\n",
    "if not [print(key,value) for key,value in clients.items() if value == conf_subscription['Owner']]:\n",
    "    print(\"subscription owner does not exist\") \n",
    "\n",
    "for role in conf_subscription['Role'],conf_subscription['Role']:\n",
    "    _ = [(\"role: \",key,value) for key,value in roles.items() if value == role]\n",
    "if not _:\n",
    "    print(\"roles do not exist\")"
   ]
  },
  {
   "cell_type": "markdown",
   "metadata": {},
   "source": [
    "# Create client for topic, topic and subscription"
   ]
  },
  {
   "cell_type": "code",
   "execution_count": 10,
   "metadata": {},
   "outputs": [
    {
     "name": "stdout",
     "output_type": "stream",
     "text": [
      "http code: 201\n"
     ]
    }
   ],
   "source": [
    "# create a client to be used by OMF application(s)\n",
    "\n",
    "# get id for Account Member\n",
    "ocs_account = [key for key,value in roles.items() if value == \"Account Member\"]\n",
    "ocs_client = []\n",
    "for topic_client in conf_topic['ClientIds']:\n",
    "    ocs_client.append({\n",
    "        \"RoleIds\": [\n",
    "            f'{ocs_account[0]}'\n",
    "        ],\n",
    "        \"Name\": f'{topic_client}',        \n",
    "        \"Enabled\": True\n",
    "    })\n",
    "\n",
    "topic_clients = {}\n",
    "for topic_client in ocs_client:\n",
    "    response = requestOCS(\"/../../ClientCredentialClients/\",verb=\"post\",payload=json.dumps(topic_client),http_code=True)\n",
    "    topic_clients[response['Client']['Name']] = { \"id\": f\"{response['Client']['Id']}\", \"secret\" : f\"{response['Secret']}\" }"
   ]
  },
  {
   "cell_type": "code",
   "execution_count": 11,
   "metadata": {},
   "outputs": [
    {
     "name": "stdout",
     "output_type": "stream",
     "text": [
      "http code: 200\n"
     ]
    }
   ],
   "source": [
    "# create a topic\n",
    "# todo: add all clients\n",
    "topic_obj = { 'ClientIds': [f\"{topic_clients[conf_topic['ClientIds'][0]]['id']}\"],\n",
    "              'Description': f\"{conf_topic['Description']}\",\n",
    "              'Name': f\"{conf_topic['Name']}\"}\n",
    "\n",
    "#pprint.pprint(topic_obj)\n",
    "topic = requestOCS(\"/Topics/\",\"post\",payload=json.dumps(topic_obj),http_code=True)"
   ]
  },
  {
   "cell_type": "code",
   "execution_count": 12,
   "metadata": {},
   "outputs": [
    {
     "data": {
      "text/plain": [
       "{'Id': '026b5e4e-2f92-44b0-8fbf-b717895b12fc',\n",
       " 'Name': 'oak.omf.app.write',\n",
       " 'Description': 'create and write objects',\n",
       " 'CreatedDate': '2019-10-17T01:01:01.2953302Z',\n",
       " 'ClientIds': ['444d29af-e82e-4224-b2ee-edbc9412115a']}"
      ]
     },
     "execution_count": 12,
     "metadata": {},
     "output_type": "execute_result"
    }
   ],
   "source": [
    "# show the topic\n",
    "topic"
   ]
  },
  {
   "cell_type": "code",
   "execution_count": 13,
   "metadata": {},
   "outputs": [
    {
     "name": "stdout",
     "output_type": "stream",
     "text": [
      "http code: 200\n"
     ]
    }
   ],
   "source": [
    "# create a subscription\n",
    "\n",
    "sub_obj = {'Name': conf_subscription['Name'],\n",
    "          'TopicId': topic['Id'],\n",
    "          'TopicTenantId': ocsClient.tenant,\n",
    "          'TopicNamespaceId': namespace_id,\n",
    "          'TenantId': ocsClient.tenant,\n",
    "          'NamespaceId': namespace_id,\n",
    "          'Description': conf_subscription['Description'],\n",
    "          'Type': 1,\n",
    "          'Enabled': True}\n",
    "\n",
    "subscription = requestOCS(\"/Subscriptions\",\"post\",payload=json.dumps(sub_obj),http_code=True)"
   ]
  },
  {
   "cell_type": "code",
   "execution_count": 14,
   "metadata": {},
   "outputs": [
    {
     "data": {
      "text/plain": [
       "{'Id': '8976c37b-2226-4940-8b1e-ecf32f011df8',\n",
       " 'Name': 'oak.omf.write',\n",
       " 'TopicId': '026b5e4e-2f92-44b0-8fbf-b717895b12fc',\n",
       " 'TopicTenantId': 'efe27258-f6d5-4ea6-a001-3e4a82777710',\n",
       " 'TopicNamespaceId': '8200557b-8fa9-4b4f-a884-92967c79251f',\n",
       " 'TenantId': 'efe27258-f6d5-4ea6-a001-3e4a82777710',\n",
       " 'NamespaceId': '8200557b-8fa9-4b4f-a884-92967c79251f',\n",
       " 'Description': 'create and write objects',\n",
       " 'Type': 1,\n",
       " 'CreatedDate': '2019-10-17T01:01:04.5303963Z',\n",
       " 'Enabled': True}"
      ]
     },
     "execution_count": 14,
     "metadata": {},
     "output_type": "execute_result"
    }
   ],
   "source": [
    "# show the subscription\n",
    "subscription"
   ]
  },
  {
   "cell_type": "markdown",
   "metadata": {},
   "source": [
    "# create a role, client and set client to subscription owner"
   ]
  },
  {
   "cell_type": "code",
   "execution_count": 15,
   "metadata": {},
   "outputs": [
    {
     "name": "stdout",
     "output_type": "stream",
     "text": [
      "http code: 201\n"
     ]
    }
   ],
   "source": [
    "# create the role\n",
    "role_obj = {\n",
    "        \"Name\": f\"{conf_subscription['Role']}\",\n",
    "        \"Description\": f\"{conf_subscription['Description']}\",\n",
    "        \"RoleScope\": 1\n",
    "    }\n",
    "role = requestOCS(\"/../../Roles/\",verb=\"post\",payload=json.dumps(role_obj),http_code=True)"
   ]
  },
  {
   "cell_type": "code",
   "execution_count": 16,
   "metadata": {},
   "outputs": [
    {
     "data": {
      "text/plain": [
       "{'Id': 'c1682e0d-9383-4344-ac3a-c344598f341f',\n",
       " 'Name': 'oak.omf.write',\n",
       " 'Description': 'create and write objects',\n",
       " 'RoleScope': 1}"
      ]
     },
     "execution_count": 16,
     "metadata": {},
     "output_type": "execute_result"
    }
   ],
   "source": [
    "role"
   ]
  },
  {
   "cell_type": "code",
   "execution_count": 17,
   "metadata": {},
   "outputs": [
    {
     "name": "stdout",
     "output_type": "stream",
     "text": [
      "http code: 201\n"
     ]
    }
   ],
   "source": [
    "# create the client\n",
    "\n",
    "client_obj = { \"RoleIds\": [\n",
    "                    role['Id'],\n",
    "                    f\"{[key for key,value in roles.items() if value == 'Account Member'][0]}\"\n",
    "                ],\n",
    "                \"Name\": f\"{conf_subscription['Owner']}\",\n",
    "                \"Description\": f\"{conf_subscription['Description']}\",\n",
    "                \"Enabled\": True\n",
    "             }\n",
    "\n",
    "#print.pprint(client_obj)\n",
    "client = requestOCS(\"/../../ClientCredentialClients/\",verb=\"post\",payload=json.dumps(client_obj),http_code=True)"
   ]
  },
  {
   "cell_type": "code",
   "execution_count": 18,
   "metadata": {},
   "outputs": [
    {
     "data": {
      "text/plain": [
       "{'Secret': 'rVBDV5R+D7Pnzatac14gVGCJ5JvZUqNfKrRAadqVjE4=',\n",
       " 'Id': 30126,\n",
       " 'Description': None,\n",
       " 'ExpirationDate': None,\n",
       " 'Client': {'RoleIds': ['c1682e0d-9383-4344-ac3a-c344598f341f',\n",
       "   'd1cf7ef9-02ac-4322-bb5a-1a22766203f4'],\n",
       "  'Id': 'efcdc912-fd37-4c00-b055-b4eb3b3ab214',\n",
       "  'Name': 'oak.omf.write',\n",
       "  'Enabled': True,\n",
       "  'AccessTokenLifetime': 3600,\n",
       "  'Tags': []}}"
      ]
     },
     "execution_count": 18,
     "metadata": {},
     "output_type": "execute_result"
    }
   ],
   "source": [
    "client"
   ]
  },
  {
   "cell_type": "code",
   "execution_count": 19,
   "metadata": {},
   "outputs": [
    {
     "name": "stdout",
     "output_type": "stream",
     "text": [
      "http code: 200\n"
     ]
    }
   ],
   "source": [
    "# change subscription owner\n",
    "\n",
    "owner_obj = {\n",
    "\t\"Type\": 2,\n",
    "\t\"ObjectId\": client['Client']['Id'],\n",
    "    \"TenantId\": ocsClient.tenant\n",
    "}\n",
    "\n",
    "#pprint.pprint(owner_obj)\n",
    "owner = requestOCS(f\"/Subscriptions/{subscription['Id']}/owner\",\"put\",payload=json.dumps(owner_obj),http_code=True)"
   ]
  },
  {
   "cell_type": "code",
   "execution_count": 23,
   "metadata": {},
   "outputs": [
    {
     "data": {
      "text/plain": [
       "{'Type': 2,\n",
       " 'ObjectId': 'oak.omf.write',\n",
       " 'TenantId': 'efe27258-f6d5-4ea6-a001-3e4a82777710'}"
      ]
     },
     "execution_count": 23,
     "metadata": {},
     "output_type": "execute_result"
    }
   ],
   "source": [
    "cache() # refresh to add newly created client\n",
    "lookup_id(owner)"
   ]
  },
  {
   "cell_type": "markdown",
   "metadata": {},
   "source": [
    "# Add subscription owner role to default acl for types and streams"
   ]
  },
  {
   "cell_type": "code",
   "execution_count": 24,
   "metadata": {},
   "outputs": [
    {
     "name": "stdout",
     "output_type": "stream",
     "text": [
      "adding....\n",
      "http code: 200\n",
      "\n"
     ]
    },
    {
     "data": {
      "text/plain": [
       "{'RoleTrusteeAccessControlEntries': [{'Trustee': {'Type': 3,\n",
       "    'ObjectId': 'Account Member',\n",
       "    'TenantId': None},\n",
       "   'AccessType': 0,\n",
       "   'AccessRights': 1},\n",
       "  {'Trustee': {'Type': 3,\n",
       "    'ObjectId': 'Account Administrator',\n",
       "    'TenantId': None},\n",
       "   'AccessType': 0,\n",
       "   'AccessRights': 15},\n",
       "  {'Trustee': {'Type': 3, 'ObjectId': 'Account Contributor', 'TenantId': None},\n",
       "   'AccessType': 0,\n",
       "   'AccessRights': 3},\n",
       "  {'Trustee': {'Type': 3,\n",
       "    'ObjectId': 'OmfHealthNoPermissions',\n",
       "    'TenantId': None},\n",
       "   'AccessType': 0,\n",
       "   'AccessRights': 0},\n",
       "  {'Trustee': {'Type': 3, 'ObjectId': 'site.omf.write', 'TenantId': None},\n",
       "   'AccessType': 0,\n",
       "   'AccessRights': 2},\n",
       "  {'Trustee': {'Type': 3, 'ObjectId': 'oak.omf.write'}, 'AccessRights': 2}]}"
      ]
     },
     "execution_count": 24,
     "metadata": {},
     "output_type": "execute_result"
    },
    {
     "name": "stdout",
     "output_type": "stream",
     "text": [
      "adding....\n",
      "http code: 200\n",
      "\n"
     ]
    },
    {
     "data": {
      "text/plain": [
       "{'RoleTrusteeAccessControlEntries': [{'Trustee': {'Type': 3,\n",
       "    'ObjectId': 'Account Member',\n",
       "    'TenantId': None},\n",
       "   'AccessType': 0,\n",
       "   'AccessRights': 1},\n",
       "  {'Trustee': {'Type': 3,\n",
       "    'ObjectId': 'Account Administrator',\n",
       "    'TenantId': None},\n",
       "   'AccessType': 0,\n",
       "   'AccessRights': 15},\n",
       "  {'Trustee': {'Type': 3, 'ObjectId': 'Account Contributor', 'TenantId': None},\n",
       "   'AccessType': 0,\n",
       "   'AccessRights': 3},\n",
       "  {'Trustee': {'Type': 3, 'ObjectId': 'site.omf.write', 'TenantId': None},\n",
       "   'AccessType': 0,\n",
       "   'AccessRights': 3},\n",
       "  {'Trustee': {'Type': 3, 'ObjectId': 'oak.omf.write'}, 'AccessRights': 2}]}"
      ]
     },
     "execution_count": 24,
     "metadata": {},
     "output_type": "execute_result"
    }
   ],
   "source": [
    "# add the client role to access control entry for types and streams *if* it doesn't already exist\n",
    "# (Note: if it fails, run a second time - appears to be notebook related)\n",
    "\n",
    "# Check if the client already exists in the acl\n",
    "for object in (\"types\",\"streams\"):\n",
    "    acl = requestOCS(f'/AccessControl/{object}',\"get\")\n",
    "    trustee =  [ trustee for trustee in acl['RoleTrusteeAccessControlEntries'] if trustee['Trustee']['ObjectId'] == role['Id']]\n",
    "    # if not, add it!\n",
    "    if not trustee:\n",
    "        print(f'adding acl for {object}....')\n",
    "        #pprint.pprint(acl)\n",
    "        trustee_obj = { 'Trustee': { 'Type': 3, \n",
    "                     'ObjectId': role['Id'] },\n",
    "                     'AccessRights': 2}\n",
    "        acl['RoleTrusteeAccessControlEntries'].append(trustee_obj)\n",
    "        #pprint.pprint(acl)\n",
    "        response = requestOCS(f'/AccessControl/{object}',\"put\",payload=json.dumps(acl),http_code=True)\n",
    "    else:\n",
    "        print(\"role already exists, not adding...\")\n",
    "    # display the existing or updated acl\n",
    "    lookup_ace_id(acl)"
   ]
  },
  {
   "cell_type": "markdown",
   "metadata": {},
   "source": [
    "# Send OMF payload(s) to OCS"
   ]
  },
  {
   "cell_type": "code",
   "execution_count": 25,
   "metadata": {},
   "outputs": [],
   "source": [
    "# create a config.ini file for use with omfDemo.py or other OMF sample script(s)\n",
    "# Note: uncomment the final line to create/update the file\n",
    "\n",
    "config = f\"\"\"\n",
    "; config.ini - define OSIsoft Message Format endpoint\n",
    "; update required endpoint section and comment other sections\n",
    ";\n",
    ";--------------------------------------------------------------\n",
    "; OSIsoft Cloud Services\n",
    ";\n",
    "[Configurations]\n",
    "Namespace = {namespace_id}\n",
    "OMFVersion = 1.1\n",
    "\n",
    "[Access]\n",
    ";Resource = https://dat-b.osisoft.com\n",
    "Resource = https://staging.osipi.com\n",
    "Tenant = {ocsClient.tenant}\n",
    "ApiVersion = v1\n",
    "\n",
    "[Credentials]\n",
    "ClientId = {topic_clients[conf_topic['ClientIds'][0]]['id']}\n",
    "ClientSecret = {topic_clients[conf_topic['ClientIds'][0]]['secret']}\n",
    ";\"\"\"\n",
    "\n",
    "# Modify the location of the file if required to match the location of the omf script(s)\n",
    "from pathlib import Path\n",
    "config_path = Path(\"ocs\\omf\\config-omf.ini\")\n",
    "print(config,  file=open(config_path, 'w'))"
   ]
  },
  {
   "cell_type": "code",
   "execution_count": 26,
   "metadata": {},
   "outputs": [
    {
     "name": "stdout",
     "output_type": "stream",
     "text": [
      "\n",
      "Run the following command from:\n",
      "C:\\Users\\gmoffett\\Documents\\working\\ocs\n",
      "python ocs\\omf\\omfDemo.py -c ocs\\omf\\config-omf.ini -d ocs\\omf\\data\n",
      "\n"
     ]
    }
   ],
   "source": [
    "# Example using omfDemo.py from https://github.com/mofff/OCS\n",
    "\n",
    "from pathlib import Path\n",
    "script = Path(\"ocs\\omf\\omfDemo.py\")\n",
    "config_path = Path(\"ocs\\omf\\config-omf.ini\")\n",
    "datadir = Path(\"ocs\\omf\\data\")\n",
    "cwd = Path(\".\").resolve()\n",
    "\n",
    "print(f'''\n",
    "Run the following command from:\n",
    "{cwd}\n",
    "python {script} -c {config_path} -d {datadir}\n",
    "''')"
   ]
  },
  {
   "cell_type": "markdown",
   "metadata": {},
   "source": [
    "# check created values"
   ]
  },
  {
   "cell_type": "code",
   "execution_count": 30,
   "metadata": {},
   "outputs": [
    {
     "data": {
      "text/plain": [
       "['stream-string', 'gps-coords-dd', 'stream-number']"
      ]
     },
     "execution_count": 30,
     "metadata": {},
     "output_type": "execute_result"
    },
    {
     "data": {
      "text/plain": [
       "[{'IndexedDateTime': '2019-10-17T01:08:04Z', 'value': 'Ok'},\n",
       " {'IndexedDateTime': '2019-10-17T01:08:04Z',\n",
       "  'latitude': '40.446° N',\n",
       "  'longitude': '79.982° W'},\n",
       " {'IndexedDateTime': '2019-10-17T01:08:04Z', 'value': 300.0}]"
      ]
     },
     "execution_count": 30,
     "metadata": {},
     "output_type": "execute_result"
    }
   ],
   "source": [
    "# query is based upon OMF payload, modify to match if required\n",
    "[sds_type.Id for sds_type in ocsClient.Types.getTypes(namespace_id,query=f\"id:stream-string or id:gps-coords-dd or id:stream-number\")]\n",
    "[ocsClient.Streams.getLastValue(namespace_id,stream.Id)  for stream in ocsClient.Streams.getStreams(namespace_id,query=\"Asset2*\")]"
   ]
  },
  {
   "cell_type": "markdown",
   "metadata": {},
   "source": [
    "# create  restricted access role and assign to client"
   ]
  },
  {
   "cell_type": "code",
   "execution_count": 31,
   "metadata": {},
   "outputs": [
    {
     "name": "stdout",
     "output_type": "stream",
     "text": [
      "http code: 201\n"
     ]
    }
   ],
   "source": [
    "# create the role\n",
    "role_obj = {\n",
    "        \"Name\": f\"{conf_subscription_restricted['Role']}\",\n",
    "        \"Description\": f\"{conf_subscription_restricted['Description']}\",\n",
    "        \"RoleScope\": 1\n",
    "    }\n",
    "role = requestOCS(\"/../../Roles/\",verb=\"post\",payload=json.dumps(role_obj),http_code=True)"
   ]
  },
  {
   "cell_type": "code",
   "execution_count": 32,
   "metadata": {},
   "outputs": [
    {
     "name": "stdout",
     "output_type": "stream",
     "text": [
      "http code: 201\n"
     ]
    }
   ],
   "source": [
    "# create the client\n",
    "client_obj = { \"RoleIds\": [\n",
    "                    role['Id'],\n",
    "                    f\"{[key for key,value in roles.items() if value == 'Account Member'][0]}\"\n",
    "                ],\n",
    "                \"Name\": f\"{conf_subscription_restricted['Owner']}\",\n",
    "                \"Description\": f\"{conf_subscription_restricted['Description']}\",\n",
    "                \"Enabled\": True\n",
    "             }\n",
    "\n",
    "#print.pprint(client_obj)\n",
    "client = requestOCS(\"/../../ClientCredentialClients/\",verb=\"post\",payload=json.dumps(client_obj),http_code=True)"
   ]
  },
  {
   "cell_type": "code",
   "execution_count": 33,
   "metadata": {},
   "outputs": [],
   "source": [
    "# update cache for user, client and role details\n",
    "cache()"
   ]
  },
  {
   "cell_type": "code",
   "execution_count": 74,
   "metadata": {},
   "outputs": [
    {
     "name": "stdout",
     "output_type": "stream",
     "text": [
      "route https://staging.osipi.com/api/v1/Tenants/efe27258-f6d5-4ea6-a001-3e4a82777710/Namespaces/8200557b-8fa9-4b4f-a884-92967c79251f/streams/Asset2.Temperature/accesscontrol\n",
      "adding....\n",
      "http code: 204\n",
      "\n",
      "{'RoleTrusteeAccessControlEntries': [{'AccessRights': 1,\n",
      "                                      'AccessType': 0,\n",
      "                                      'Trustee': {'ObjectId': 'Account Member',\n",
      "                                                  'TenantId': None,\n",
      "                                                  'Type': 3}},\n",
      "                                     {'AccessRights': 15,\n",
      "                                      'AccessType': 0,\n",
      "                                      'Trustee': {'ObjectId': 'Account '\n",
      "                                                              'Administrator',\n",
      "                                                  'TenantId': None,\n",
      "                                                  'Type': 3}},\n",
      "                                     {'AccessRights': 3,\n",
      "                                      'AccessType': 0,\n",
      "                                      'Trustee': {'ObjectId': 'Account '\n",
      "                                                              'Contributor',\n",
      "                                                  'TenantId': None,\n",
      "                                                  'Type': 3}},\n",
      "                                     {'AccessRights': 3,\n",
      "                                      'AccessType': 0,\n",
      "                                      'Trustee': {'ObjectId': 'site.omf.write',\n",
      "                                                  'TenantId': None,\n",
      "                                                  'Type': 3}},\n",
      "                                     {'AccessRights': 2,\n",
      "                                      'AccessType': 0,\n",
      "                                      'Trustee': {'ObjectId': 'oak.omf.write',\n",
      "                                                  'TenantId': None,\n",
      "                                                  'Type': 3}},\n",
      "                                     {'AccessRights': 2,\n",
      "                                      'AccessType': 0,\n",
      "                                      'Trustee': {'ObjectId': 'oak.omf.write.restricted',\n",
      "                                                  'Type': 3}}]}\n"
     ]
    }
   ],
   "source": [
    "# add the role to the ace for one of the streams OMF application is sending\n",
    "role = {'Id': '2114bf6a-2f8d-4f7f-a147-3bb032ac9f0d'}\n",
    "path = \"/streams/Asset2.Temperature/accesscontrol\"\n",
    "ace = requestOCS(path,debug=True)\n",
    "trustee = [ trustee for trustee in ace['RoleTrusteeAccessControlEntries'] if trustee['Trustee']['ObjectId'] == role['Id']]\n",
    "if not trustee:\n",
    "    if role is None:\n",
    "        print(\"cannot find role...\")\n",
    "        exit(1)\n",
    "    # create a trustee object with read/write for the created client\n",
    "    trustee_obj = { 'Trustee': { \n",
    "                        'Type': 3, \n",
    "                        'ObjectId': role['Id']\n",
    "                      },\n",
    "                     'AccessRights': 2,\n",
    "                     'AccessType': 0\n",
    "                  }\n",
    "    print(\"adding....\")\n",
    "    ace['RoleTrusteeAccessControlEntries'].append(trustee_obj)\n",
    "    response = requestOCS(path,\"put\",payload=json.dumps(ace),http_code=True)\n",
    "pprint.pprint(lookup_ace_id(ace))"
   ]
  },
  {
   "cell_type": "markdown",
   "metadata": {},
   "source": [
    "# Modify subscription owner"
   ]
  },
  {
   "cell_type": "code",
   "execution_count": 51,
   "metadata": {},
   "outputs": [
    {
     "name": "stdout",
     "output_type": "stream",
     "text": [
      "http code: 200\n"
     ]
    }
   ],
   "source": [
    "# change subscription owner\n",
    "owner_obj = {\n",
    "\t\"Type\": 2,\n",
    "    \"ObjectId\": client['Client']['Id'],\n",
    "    \"TenantId\": ocsClient.tenant\n",
    "}\n",
    "owner = requestOCS(f\"/Subscriptions/{subscription['Id']}/owner\",\"put\",payload=json.dumps(owner_obj),http_code=True)"
   ]
  },
  {
   "cell_type": "code",
   "execution_count": 63,
   "metadata": {},
   "outputs": [
    {
     "data": {
      "text/plain": [
       "{'Type': 2,\n",
       " 'ObjectId': 'oak.omf.write.restricted',\n",
       " 'TenantId': 'efe27258-f6d5-4ea6-a001-3e4a82777710'}"
      ]
     },
     "execution_count": 63,
     "metadata": {},
     "output_type": "execute_result"
    }
   ],
   "source": [
    "lookup_id(requestOCS(f\"/Subscriptions/{subscription['Id']}/owner\"))"
   ]
  },
  {
   "cell_type": "markdown",
   "metadata": {},
   "source": [
    "# send OMF payload"
   ]
  },
  {
   "cell_type": "code",
   "execution_count": 52,
   "metadata": {},
   "outputs": [
    {
     "name": "stdout",
     "output_type": "stream",
     "text": [
      "\n",
      "Run the following command from:\n",
      "C:\\Users\\gmoffett\\Documents\\working\\ocs\n",
      "python ocs\\omf\\omfDemo.py -c ocs\\omf\\config-omf.ini -d ocs\\omf\\data\n",
      "\n"
     ]
    }
   ],
   "source": [
    "# Modify the location of the file if required to match the location of the omf script(s)\n",
    "config_path = Path(\"ocs\\omf\\config-omf.ini\")\n",
    "script = Path(\"ocs\\omf\\omfDemo.py\")\n",
    "datadir = Path(\"ocs\\omf\\data\")\n",
    "cwd = Path(\".\").resolve()\n",
    "print(config,  file=open(config_path, 'w'))\n",
    "print(f'''\n",
    "Run the following command from:\n",
    "{cwd}\n",
    "python {script} -c {config_path} -d {datadir}\n",
    "''')"
   ]
  },
  {
   "cell_type": "markdown",
   "metadata": {},
   "source": [
    "# check for stream value update"
   ]
  },
  {
   "cell_type": "code",
   "execution_count": 75,
   "metadata": {},
   "outputs": [
    {
     "data": {
      "text/plain": [
       "[{'IndexedDateTime': '2019-10-17T01:08:04Z', 'value': 'Ok'},\n",
       " {'IndexedDateTime': '2019-10-17T01:08:04Z',\n",
       "  'latitude': '40.446° N',\n",
       "  'longitude': '79.982° W'},\n",
       " {'IndexedDateTime': '2019-10-17T01:59:19Z', 'value': 300.0}]"
      ]
     },
     "execution_count": 75,
     "metadata": {},
     "output_type": "execute_result"
    }
   ],
   "source": [
    "# query is based upon OMF payload and modified stream access\n",
    "# only the modified stream acl access should have an updated event\n",
    "[ocsClient.Streams.getLastValue(namespace_id,stream.Id)  for stream in ocsClient.Streams.getStreams(namespace_id,query=\"Asset2*\")]"
   ]
  },
  {
   "cell_type": "markdown",
   "metadata": {},
   "source": [
    "# Summary"
   ]
  },
  {
   "cell_type": "code",
   "execution_count": 84,
   "metadata": {},
   "outputs": [
    {
     "name": "stdout",
     "output_type": "stream",
     "text": [
      "Topic\n",
      "[{'ClientIds': ['oak.devices'],\n",
      "  'CreatedDate': '2019-10-17T01:01:01.2953302',\n",
      "  'Description': 'create and write objects',\n",
      "  'Id': '026b5e4e-2f92-44b0-8fbf-b717895b12fc',\n",
      "  'Name': 'oak.omf.app.write'}]\n",
      "Subscription\n",
      "[{'CreatedDate': '2019-10-17T01:01:04.5303963',\n",
      "  'Description': 'create and write objects',\n",
      "  'Enabled': True,\n",
      "  'Id': '8976c37b-2226-4940-8b1e-ecf32f011df8',\n",
      "  'Name': 'oak.omf.write',\n",
      "  'NamespaceId': '8200557b-8fa9-4b4f-a884-92967c79251f',\n",
      "  'TenantId': 'efe27258-f6d5-4ea6-a001-3e4a82777710',\n",
      "  'TopicId': '026b5e4e-2f92-44b0-8fbf-b717895b12fc',\n",
      "  'TopicNamespaceId': '8200557b-8fa9-4b4f-a884-92967c79251f',\n",
      "  'TopicTenantId': 'efe27258-f6d5-4ea6-a001-3e4a82777710',\n",
      "  'Type': 1}]\n",
      "Subscription owner\n",
      "{'ObjectId': 'oak.omf.write.restricted',\n",
      " 'TenantId': 'efe27258-f6d5-4ea6-a001-3e4a82777710',\n",
      " 'Type': 2}\n"
     ]
    }
   ],
   "source": [
    "# print topic based upon configuration\n",
    "print(\"Topic\")\n",
    "response = requestOCS(f\"/Topics\")\n",
    "obj = [obj for obj in response if obj['Name'] == conf_topic['Name']]\n",
    "pprint.pprint(lookup_client_id(obj)) if obj else print(\"topic does not exist\")\n",
    "if obj:\n",
    "    # print topic client if it exists\n",
    "    for client in obj[0]['ClientIds']:\n",
    "        #print(client)\n",
    "        _ = [(\"topic client: \",key,value) for key,value in clients.items() if key == client]\n",
    "\n",
    "# ... for subscription\n",
    "print(\"Subscription\")\n",
    "response = requestOCS(f\"/Subscriptions\")\n",
    "obj = [obj for obj in response if obj['Name'] == conf_subscription['Name']]\n",
    "pprint.pprint(obj)\n",
    "if obj:\n",
    "    # display subscription owner\n",
    "    print(\"Subscription owner\")\n",
    "    response = requestOCS(f\"/Subscriptions/{obj[0]['Id']}/owner\")\n",
    "    pprint.pprint(lookup_id(response))"
   ]
  },
  {
   "cell_type": "markdown",
   "metadata": {},
   "source": [
    "# clean-up removing created objects"
   ]
  },
  {
   "cell_type": "code",
   "execution_count": 68,
   "metadata": {},
   "outputs": [
    {
     "name": "stdout",
     "output_type": "stream",
     "text": [
      "stream id: Asset2.Location, stream name: Asset2.Location\n",
      "type id: gps-coords-dd, type name: \n",
      "stream id: Asset2.Temperature, stream name: Asset2.Temperature\n",
      "type id: stream-number, type name: \n",
      "stream id: Asset2.Status, stream name: Asset2.Status\n",
      "type id: stream-string, type name: \n"
     ]
    }
   ],
   "source": [
    "# Clean-up - delete stream and stream type created by OMF script\n",
    "\n",
    "def cleanup(queries,remove=False):\n",
    "    for query in queries:\n",
    "        for stream in ocsClient.Streams.getStreams(namespace_id,f'name:{query}'):\n",
    "            print(f'stream id: {stream.Id}, stream name: {stream.Name}')\n",
    "            if remove:\n",
    "                try:\n",
    "                    ocsClient.Streams.deleteStream(namespace_id,stream.Id)\n",
    "                except:\n",
    "                    pass\n",
    "            for type in ocsClient.Types.getTypes(namespace_id,query=stream.TypeId):\n",
    "                print(f'type id: {type.Id}, type name: {type.Name}')\n",
    "                if remove:\n",
    "                    try:\n",
    "                        ocsClient.Types.deleteType(namespace_id,type.Id)\n",
    "                        ocsClient.Types.deleteType(namespace_id,type.TypeId)\n",
    "                    except:\n",
    "                        pass\n",
    "        \n",
    "# cleanup - disabled, i.e: False and commented:\n",
    "cleanup([\"Asset2.Location\",\"Asset2.Temperature\",\"Asset2.Status\"],False)"
   ]
  },
  {
   "cell_type": "code",
   "execution_count": 61,
   "metadata": {},
   "outputs": [
    {
     "name": "stdout",
     "output_type": "stream",
     "text": [
      "delete False for oak.omf.write, route: /Subscriptions/8976c37b-2226-4940-8b1e-ecf32f011df8\n",
      "delete False for oak.omf.app.write, route: /Topics/026b5e4e-2f92-44b0-8fbf-b717895b12fc\n",
      "delete False for oak.devices, route: /../../ClientCredentialClients/444d29af-e82e-4224-b2ee-edbc9412115a\n",
      "update False for oak.omf.write acl, route: /accesscontrol/Types\n",
      "update False for oak.omf.write acl, route: /accesscontrol/Streams\n",
      "delete False for oak.omf.write, route: /../../Roles/c1682e0d-9383-4344-ac3a-c344598f341f\n",
      "delete False for oak.omf.write, route: /../../ClientCredentialClients/efcdc912-fd37-4c00-b055-b4eb3b3ab214\n",
      "delete False for oak.omf.write.restricted, route: /../../ClientCredentialClients/6f1a331c-74f5-414c-bf16-447abcba8d48\n",
      "delete False for oak.omf.write.restricted, route: /../../Roles/2114bf6a-2f8d-4f7f-a147-3bb032ac9f0d\n",
      "fini\n"
     ]
    }
   ],
   "source": [
    "# Clean-up environment\n",
    "# update default acl for type and streams to remove \n",
    "# print topic if it exists based upon configuration\n",
    "\n",
    "def delete_acl(path,role,remove=False):\n",
    "    \"\"\"\n",
    "    object: route path entry of object to remove role, e.g.: type or stream\n",
    "    role: role name to remove\n",
    "    remove: boolean, False to list what would be deleted\n",
    "    \"\"\"\n",
    "    path_prefix = \"/accesscontrol/\"\n",
    "    # lookup the role id, required to lookup role in acl\n",
    "    role_id = [key for key,value in roles.items() if value == role]\n",
    "    if not len(role_id) == 1:\n",
    "            print(f\"less or more than one role id for {role}, not supported, delete manually\")\n",
    "            return 1\n",
    "    acl = requestOCS(f\"{path_prefix}{path}\")\n",
    "    # update the acl removing the role accessrights if it exists\n",
    "    count_acl = len(acl['RoleTrusteeAccessControlEntries'])\n",
    "    trustee = acl['RoleTrusteeAccessControlEntries']\n",
    "    trustee[:] = [trustee for trustee in acl['RoleTrusteeAccessControlEntries'] if trustee['Trustee']['ObjectId'] != role_id[0]]\n",
    "    # update acl if required\n",
    "    if count_acl > len(acl['RoleTrusteeAccessControlEntries']):\n",
    "        route = f\"{path_prefix}{path}\"\n",
    "        print(f\"update {remove} for {role} acl, route: {route}\")\n",
    "        if remove:\n",
    "              pass\n",
    "              response = requestOCS(route,\"put\",json.dumps(acl),http_code=True)\n",
    "\n",
    "def delete_object(path,name,remove=False):\n",
    "    \"\"\"\n",
    "    path: partial route from namespace to object\n",
    "    name: name of the object to delete\n",
    "    remove: boolean, False to list what would be deleted\n",
    "    \"\"\"\n",
    "    # get a list of the objects\n",
    "    response = requestOCS(f\"/{path}\")\n",
    "    # find the object based on the supplied name\n",
    "    for entry in [obj for obj in response if obj['Name'] == name]:\n",
    "        route = f\"/{path}/{entry['Id']}\"\n",
    "        print(f\"delete {remove} for {entry['Name']}, route: {route}\")\n",
    "        if remove:\n",
    "            pass\n",
    "            response = requestOCS(route,\"delete\",http_code=True)\n",
    "\n",
    "# Set to true to delete\n",
    "are_you_sure = False\n",
    "delete_object(\"Subscriptions\",conf_subscription['Name'],are_you_sure)\n",
    "delete_object(\"Topics\",conf_topic['Name'],are_you_sure)\n",
    "_ = [delete_object(\"../../ClientCredentialClients\",obj,are_you_sure) for obj in conf_topic['ClientIds']]\n",
    "delete_acl(\"Types\",conf_subscription['Role'],are_you_sure)\n",
    "delete_acl(\"Streams\",conf_subscription['Role'],are_you_sure)\n",
    "delete_object(\"../../Roles\",conf_subscription['Role'],are_you_sure)\n",
    "delete_object(\"../../ClientCredentialClients\",conf_subscription['Owner'],are_you_sure)\n",
    "delete_object(\"../../ClientCredentialClients\",conf_subscription_restricted['Owner'],are_you_sure)\n",
    "delete_object(\"../../Roles\",conf_subscription_restricted['Role'],are_you_sure)\n",
    "print(\"fini\")"
   ]
  }
 ],
 "metadata": {
  "kernelspec": {
   "display_name": "Python 3",
   "language": "python",
   "name": "python3"
  },
  "language_info": {
   "codemirror_mode": {
    "name": "ipython",
    "version": 3
   },
   "file_extension": ".py",
   "mimetype": "text/x-python",
   "name": "python",
   "nbconvert_exporter": "python",
   "pygments_lexer": "ipython3",
   "version": "3.7.0"
  }
 },
 "nbformat": 4,
 "nbformat_minor": 4
}
